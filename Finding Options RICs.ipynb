{
 "cells": [
  {
   "attachments": {
    "ceb40f2b-d239-49b2-823c-77eab907a841.png": {
     "image/png": "[encoded data removed]"
    }
   },
   "cell_type": "markdown",
   "id": "de47d58e-c751-471d-af32-6f22493380ba",
   "metadata": {
    "tags": []
   },
   "source": [
    "![refinitiv.png](attachment:ceb40f2b-d239-49b2-823c-77eab907a841.png)\n",
    "\n",
    "# 2022:Refinitiv Article series. All rights reserved"
   ]
  },
  {
   "cell_type": "markdown",
   "id": "43fbaf72-4209-4005-bb1d-f4ec45e69a61",
   "metadata": {},
   "source": [
    "## Finding Option RICs"
   ]
  },
  {
   "cell_type": "markdown",
   "id": "25ca3837-5ff7-45e5-8b41-ef28908b42d2",
   "metadata": {},
   "source": [
    "[Overview](#Overview)<br>\n",
    "[Install and import packages](#Install-and-import-packages)<br>\n",
    "[Section 1: Define supplementary functions](#Section-1:-Define-supplementary-functions)<br>\n",
    "&nbsp;&nbsp;&nbsp;&nbsp;&nbsp;&nbsp; [1.1 Function to get exchange codes where the option is traded](#1.1-Function-to-get-exchange-codes-where-the-option-is-traded)<br>\n",
    "&nbsp;&nbsp;&nbsp;&nbsp;&nbsp;&nbsp; [1.2 Function to check if found RIC is valid (if price data exists)](#1.2-Function-to-check-if-found-RIC-is-valid-(if-price-data-exists))<br>\n",
    "&nbsp;&nbsp;&nbsp;&nbsp;&nbsp;&nbsp; [1.3 Function to get option Expiration month code](#1.3-Function-to-get-option-Expiration-month-code)<br>\n",
    "[Section 2: Define functions to get option RICs for each exchange](#Section-2:-Define-functions-to-get-option-RICs-for-each-exchange)<br>\n",
    "&nbsp;&nbsp;&nbsp;&nbsp;&nbsp;&nbsp; [2.1 Function for OPRA](2.1-Function-for-OPRA)<br>\n",
    "&nbsp;&nbsp;&nbsp;&nbsp;&nbsp;&nbsp; [2.2 Function for the Stock Exchange of Hong Kong](#2.2-Function-for-the-Stock-Exchange-of-Hong-Kong)<br>\n",
    "&nbsp;&nbsp;&nbsp;&nbsp;&nbsp;&nbsp; [2.3 Function for the Osaka Stock Exchange](#2.3-Function-for-the-Osaka-Stock-Exchange)<br>\n",
    "&nbsp;&nbsp;&nbsp;&nbsp;&nbsp;&nbsp; [2.4 Function for OPRA](#2.4-Function-for-OPRA)<br>\n",
    "&nbsp;&nbsp;&nbsp;&nbsp;&nbsp;&nbsp; [2.5 Function for the Intercontinental Exchange](#2.5-Function-for-the-Intercontinental-Exchange)<br>\n",
    "[Section 3: Universal function for all above exchanges](#Section-3:-Universal-function-for-all-above-exchanges)"
   ]
  },
  {
   "cell_type": "markdown",
   "id": "497396d5-51ea-4661-aae6-3f5365aa973c",
   "metadata": {},
   "source": [
    "### Overview\n",
    "\n",
    "The current notebook includes functions to constructs option RICs on equities and indices. Section 1 defines supplementarty functions which are further called by the main RIC construction functions. In section 2, I define separate functions per supported stock exchange. Section 3, defines a universal function which takes isin, maturity, strike and option type as an input, finds all exchanges where the options on the given asset are traded, constructs RICs for them, validates and returns the constructed RICs along with the prices.\n",
    "\n",
    "The current version covers the following exchanges:\n",
    "* US OPRA - refer to RULES7, RULES2, RULES3, RULES4 in Workspace, and Guideline for strikes above 10000 in [MyRefinitiv](https://my.refinitiv.com/content/mytr/en/datanotification/DN099473.html).\n",
    "* EUREX - refer to RULES2, RULES3, RULES4 in Workspace, and general option RIC structure in [MyRefinitiv](https://my.refinitiv.com/content/mytr/en/faqs/2016/09/000195632.html). \n",
    "* Osaka Exchange - refer to RULES2, RULES3, RULES4 in Workspace, and RIC structure for Osaka exchange in [MyRefinitiv](https://my.refinitiv.com/content/mytr/en/faqs/2014/10/000189842.html).\n",
    "* Stock Exchange of Hong Kong - refer to RULES2, RULES3, RULES4 in Workspace, and RIC structure for HK exchange in [MyRefinitiv](https://my.refinitiv.com/content/mytr/en/faqs/2021/04/000198505.html).\n",
    "* Hong Kong Future Exchange - refer to RULES2, RULES3, RULES4 in Workspace, and RIC structure for HK exchange in [MyRefinitiv](https://my.refinitiv.com/content/mytr/en/faqs/2021/04/000198505.html).\n",
    "* Intercontinental Exchange (ICE) - refer to RULES2, RULES3, RULES4 in Workspace, and general option RIC structure in [MyRefinitiv](https://my.refinitiv.com/content/mytr/en/faqs/2016/09/000195632.html). \n",
    "\n",
    "Syntax for the expired options is universal accross exchanges and can be found [here](https://my.refinitiv.com/content/mytr/en/faqs/2018/09/000178972.html)."
   ]
  },
  {
   "cell_type": "markdown",
   "id": "7bf1c650-bd9c-4cd0-9a0a-0214444e09a4",
   "metadata": {},
   "source": [
    "## Install and import packages"
   ]
  },
  {
   "cell_type": "markdown",
   "id": "d8844a44-5ae5-4aea-9682-84d8f654d993",
   "metadata": {},
   "source": [
    "To start, we first install and import the necessary packages. We use the Refinitiv Data Libraries to retrieve the data. The code are built using Python 3.9. Other prerequisite packages are installed below:"
   ]
  },
  {
   "cell_type": "code",
   "execution_count": null,
   "id": "eade2868-4236-41d9-9a11-aba7a8cbe529",
   "metadata": {},
   "outputs": [],
   "source": [
    "!pip install refinitiv.data"
   ]
  },
  {
   "cell_type": "code",
   "execution_count": 1,
   "id": "e6ee0909-bec8-41c3-98c9-81c1aec99170",
   "metadata": {},
   "outputs": [
    {
     "data": {
      "text/plain": [
       "<refinitiv.data.session.Definition object at 0x7f47252395e0 {name='codebook'}>"
      ]
     },
     "execution_count": 1,
     "metadata": {},
     "output_type": "execute_result"
    }
   ],
   "source": [
    "import refinitiv.data as rd\n",
    "import pandas as pd\n",
    "from refinitiv.data.errors import RDError\n",
    "from datetime import timedelta\n",
    "from datetime import datetime\n",
    "\n",
    "rd.open_session()"
   ]
  },
  {
   "cell_type": "markdown",
   "id": "44169e7c-8a79-4f23-932c-ee6a4be6e52d",
   "metadata": {},
   "source": [
    "### Section 1: Defining helper functions"
   ]
  },
  {
   "cell_type": "markdown",
   "id": "eb945a01-244d-4815-9610-3bb37916b511",
   "metadata": {},
   "source": [
    "Functions in this section are helpers and are further called from the functions in Section 2 and Section 3."
   ]
  },
  {
   "cell_type": "markdown",
   "id": "88666339-0f0a-4030-99a8-3519e055c240",
   "metadata": {},
   "source": [
    "#### 1.1 Function to get exchange codes where the option is traded"
   ]
  },
  {
   "cell_type": "markdown",
   "id": "8ace90bb-b02c-48ce-b71b-2fb153f8c147",
   "metadata": {},
   "source": [
    "This function allows to get the list of exchange codes where an option on the given asset is traded. The function takes asset RIC as an input and returns the list of exchanges. Then function is Section 3 constructs RICs for all supported exchanges in that list. The core of the function is the **RD Search** function."
   ]
  },
  {
   "cell_type": "code",
   "execution_count": 10,
   "id": "d914ffe4-4c86-4d8a-a591-763c7a2963d8",
   "metadata": {},
   "outputs": [],
   "source": [
    "def get_exchange_code(asset):\n",
    "    \n",
    "    response = rd.discovery.search(\n",
    "        query = asset,\n",
    "        filter = \"SearchAllCategory eq 'Options' and Periodicity eq 'Monthly' \",\n",
    "        select = 'ExchangeCode',\n",
    "        group_by = \"ExchangeCode\",\n",
    "    )\n",
    "    exchanges = response.drop_duplicates()[\"ExchangeCode\"].to_list()\n",
    "    exchange_codes = []\n",
    "    for exchange in exchanges:\n",
    "        exchange_codes.append(exchange)\n",
    "        \n",
    "    return exchange_codes"
   ]
  },
  {
   "cell_type": "code",
   "execution_count": 11,
   "id": "a48219a7-8e5d-4f7a-8807-783e5f7e0518",
   "metadata": {},
   "outputs": [
    {
     "data": {
      "text/plain": [
       "['IEU', 'EUX']"
      ]
     },
     "execution_count": 11,
     "metadata": {},
     "output_type": "execute_result"
    }
   ],
   "source": [
    "get_exchange_code('.FTSE')"
   ]
  },
  {
   "cell_type": "markdown",
   "id": "394c8324-fae6-4521-ba1b-842baec445d8",
   "metadata": {},
   "source": [
    "#### 1.2 Function to get option Expiration month code"
   ]
  },
  {
   "cell_type": "markdown",
   "id": "2c102060-b410-48b3-aa43-c4379b75a6bc",
   "metadata": {},
   "source": [
    "This function takes expiration date and option type as an input and returns expiration month code for the option which is further used to construct RICs"
   ]
  },
  {
   "cell_type": "code",
   "execution_count": 12,
   "id": "5e5b484b-59c0-43fa-a848-197e2702a046",
   "metadata": {},
   "outputs": [],
   "source": [
    "def get_exp_month(maturity, opt_type, strike = None, opra=False):\n",
    "    \n",
    "    maturity = pd.to_datetime(maturity)\n",
    "    # define option expiration identifiers\n",
    "    ident = {'1': {'exp': 'A','C': 'A', 'P': 'M'}, \n",
    "           '2': {'exp': 'B', 'C': 'B', 'P': 'N'}, \n",
    "           '3': {'exp': 'C', 'C': 'C', 'P': 'O'}, \n",
    "           '4': {'exp': 'D', 'C': 'D', 'P': 'P'},\n",
    "           '5': {'exp': 'E', 'C': 'E', 'P': 'Q'},\n",
    "           '6': {'exp': 'F', 'C': 'F', 'P': 'R'},\n",
    "           '7': {'exp': 'G', 'C': 'G', 'P': 'S'}, \n",
    "           '8': {'exp': 'H', 'C': 'H', 'P': 'T'}, \n",
    "           '9': {'exp': 'I', 'C': 'I', 'P': 'U'}, \n",
    "           '10': {'exp': 'J', 'C': 'J', 'P': 'V'},\n",
    "           '11': {'exp': 'K', 'C': 'K', 'P': 'W'}, \n",
    "           '12': {'exp': 'L', 'C': 'L', 'P': 'X'}}\n",
    "    \n",
    "    # get expiration month code for a month\n",
    "    if opt_type.upper() == 'C':\n",
    "        exp_month = ident[str(maturity.month)]['C']\n",
    "        \n",
    "    elif opt_type.upper() == 'P':\n",
    "        exp_month = ident[str(maturity.month)]['P']\n",
    "    \n",
    "    if opra and strike > 999.999:\n",
    "        exp_month = exp_month.lower()\n",
    "            \n",
    "    return ident, exp_month"
   ]
  },
  {
   "cell_type": "code",
   "execution_count": 13,
   "id": "e7c267e6-c991-40a2-a76d-ee15d763a62e",
   "metadata": {},
   "outputs": [
    {
     "data": {
      "text/plain": [
       "'R'"
      ]
     },
     "execution_count": 13,
     "metadata": {},
     "output_type": "execute_result"
    }
   ],
   "source": [
    "ident, exp_month = get_exp_month('2022-06-03', 'P', strike = 100, opra = True)\n",
    "exp_month"
   ]
  },
  {
   "cell_type": "markdown",
   "id": "7676b053-b648-41f2-bc2c-e6f359c1e3dc",
   "metadata": {},
   "source": [
    "#### 1.3 Function to check for expiry"
   ]
  },
  {
   "cell_type": "markdown",
   "id": "f49af67b-687b-4958-9a17-77d3c75044b9",
   "metadata": {},
   "source": [
    "This function checks if the option is expired or not and adds the expiration numenclature if it is."
   ]
  },
  {
   "cell_type": "code",
   "execution_count": 14,
   "id": "1631d248-edfa-41bb-a102-404fbb5fce73",
   "metadata": {},
   "outputs": [],
   "source": [
    "def check_expiry(ric, maturity, ident):\n",
    "    maturity = pd.to_datetime(maturity)\n",
    "    if maturity < datetime.now():\n",
    "        ric = ric + '^' + ident[str(maturity.month)]['exp'] + str(maturity.year)[-2:]\n",
    "    return ric"
   ]
  },
  {
   "cell_type": "code",
   "execution_count": 15,
   "id": "d316a10e-e4ba-432a-8c1e-597a4e61c4fe",
   "metadata": {},
   "outputs": [
    {
     "data": {
      "text/plain": [
       "'AAPLA212216000.U^A22'"
      ]
     },
     "execution_count": 15,
     "metadata": {},
     "output_type": "execute_result"
    }
   ],
   "source": [
    "check_expiry('AAPLA212216000.U', '2022-01-21', ident)"
   ]
  },
  {
   "cell_type": "markdown",
   "id": "6267b43a-81d7-4438-982e-420ae2393ef8",
   "metadata": {},
   "source": [
    "#### 1.4 Function to request prices"
   ]
  },
  {
   "cell_type": "markdown",
   "id": "440759b1-2aef-49a0-acdb-c501df7bb1a6",
   "metadata": {},
   "source": [
    "This function allows validation of the constructed option RICs by requesting prices. If prices are returned, we can confirm that the RIC(s) is (are) valid, otherwise, we can't confirm the validation."
   ]
  },
  {
   "cell_type": "code",
   "execution_count": 21,
   "id": "3e99ac85-a5de-48d2-ba9c-08255ed74b19",
   "metadata": {},
   "outputs": [],
   "source": [
    "def request_prices(ric):\n",
    "    prices = []\n",
    "    try:    \n",
    "        prices = rd.get_history(ric, fields = ['BID','ASK','TRDPRC_1','SETTLE'])\n",
    "    except RDError as err:\n",
    "        print(f'Constructed ric {ric} -  {err}')\n",
    "    return prices"
   ]
  },
  {
   "cell_type": "code",
   "execution_count": 23,
   "id": "e65a5b94-8d9c-4a4f-a715-f4b4b18b49d1",
   "metadata": {},
   "outputs": [
    {
     "data": {
      "text/html": [
       "<div>\n",
       "<style scoped>\n",
       "    .dataframe tbody tr th:only-of-type {\n",
       "        vertical-align: middle;\n",
       "    }\n",
       "\n",
       "    .dataframe tbody tr th {\n",
       "        vertical-align: top;\n",
       "    }\n",
       "\n",
       "    .dataframe thead th {\n",
       "        text-align: right;\n",
       "    }\n",
       "</style>\n",
       "<table border=\"1\" class=\"dataframe\">\n",
       "  <thead>\n",
       "    <tr style=\"text-align: right;\">\n",
       "      <th>AAPLA212216000.U^A22</th>\n",
       "      <th>BID</th>\n",
       "      <th>ASK</th>\n",
       "      <th>TRDPRC_1</th>\n",
       "      <th>SETTLE</th>\n",
       "    </tr>\n",
       "    <tr>\n",
       "      <th>Date</th>\n",
       "      <th></th>\n",
       "      <th></th>\n",
       "      <th></th>\n",
       "      <th></th>\n",
       "    </tr>\n",
       "  </thead>\n",
       "  <tbody>\n",
       "    <tr>\n",
       "      <th>2021-12-23</th>\n",
       "      <td>17.15</td>\n",
       "      <td>17.45</td>\n",
       "      <td>17.36</td>\n",
       "      <td>&lt;NA&gt;</td>\n",
       "    </tr>\n",
       "    <tr>\n",
       "      <th>2021-12-27</th>\n",
       "      <td>20.9</td>\n",
       "      <td>21.0</td>\n",
       "      <td>21.0</td>\n",
       "      <td>&lt;NA&gt;</td>\n",
       "    </tr>\n",
       "    <tr>\n",
       "      <th>2021-12-28</th>\n",
       "      <td>19.95</td>\n",
       "      <td>20.3</td>\n",
       "      <td>19.95</td>\n",
       "      <td>&lt;NA&gt;</td>\n",
       "    </tr>\n",
       "    <tr>\n",
       "      <th>2021-12-29</th>\n",
       "      <td>19.85</td>\n",
       "      <td>20.05</td>\n",
       "      <td>20.05</td>\n",
       "      <td>&lt;NA&gt;</td>\n",
       "    </tr>\n",
       "    <tr>\n",
       "      <th>2021-12-30</th>\n",
       "      <td>18.5</td>\n",
       "      <td>19.0</td>\n",
       "      <td>18.9</td>\n",
       "      <td>&lt;NA&gt;</td>\n",
       "    </tr>\n",
       "    <tr>\n",
       "      <th>2021-12-31</th>\n",
       "      <td>17.95</td>\n",
       "      <td>18.75</td>\n",
       "      <td>18.2</td>\n",
       "      <td>&lt;NA&gt;</td>\n",
       "    </tr>\n",
       "    <tr>\n",
       "      <th>2022-01-03</th>\n",
       "      <td>22.0</td>\n",
       "      <td>22.25</td>\n",
       "      <td>22.15</td>\n",
       "      <td>&lt;NA&gt;</td>\n",
       "    </tr>\n",
       "    <tr>\n",
       "      <th>2022-01-04</th>\n",
       "      <td>19.85</td>\n",
       "      <td>20.2</td>\n",
       "      <td>20.07</td>\n",
       "      <td>&lt;NA&gt;</td>\n",
       "    </tr>\n",
       "    <tr>\n",
       "      <th>2022-01-05</th>\n",
       "      <td>15.35</td>\n",
       "      <td>15.8</td>\n",
       "      <td>15.57</td>\n",
       "      <td>&lt;NA&gt;</td>\n",
       "    </tr>\n",
       "    <tr>\n",
       "      <th>2022-01-06</th>\n",
       "      <td>12.7</td>\n",
       "      <td>13.0</td>\n",
       "      <td>12.8</td>\n",
       "      <td>&lt;NA&gt;</td>\n",
       "    </tr>\n",
       "    <tr>\n",
       "      <th>2022-01-07</th>\n",
       "      <td>12.55</td>\n",
       "      <td>13.1</td>\n",
       "      <td>13.14</td>\n",
       "      <td>&lt;NA&gt;</td>\n",
       "    </tr>\n",
       "    <tr>\n",
       "      <th>2022-01-10</th>\n",
       "      <td>12.65</td>\n",
       "      <td>12.95</td>\n",
       "      <td>13.05</td>\n",
       "      <td>&lt;NA&gt;</td>\n",
       "    </tr>\n",
       "    <tr>\n",
       "      <th>2022-01-11</th>\n",
       "      <td>15.0</td>\n",
       "      <td>15.5</td>\n",
       "      <td>15.3</td>\n",
       "      <td>&lt;NA&gt;</td>\n",
       "    </tr>\n",
       "    <tr>\n",
       "      <th>2022-01-12</th>\n",
       "      <td>15.5</td>\n",
       "      <td>15.9</td>\n",
       "      <td>15.3</td>\n",
       "      <td>&lt;NA&gt;</td>\n",
       "    </tr>\n",
       "    <tr>\n",
       "      <th>2022-01-13</th>\n",
       "      <td>11.3</td>\n",
       "      <td>15.0</td>\n",
       "      <td>12.6</td>\n",
       "      <td>&lt;NA&gt;</td>\n",
       "    </tr>\n",
       "    <tr>\n",
       "      <th>2022-01-14</th>\n",
       "      <td>12.95</td>\n",
       "      <td>13.5</td>\n",
       "      <td>13.28</td>\n",
       "      <td>&lt;NA&gt;</td>\n",
       "    </tr>\n",
       "    <tr>\n",
       "      <th>2022-01-18</th>\n",
       "      <td>9.6</td>\n",
       "      <td>10.8</td>\n",
       "      <td>10.1</td>\n",
       "      <td>&lt;NA&gt;</td>\n",
       "    </tr>\n",
       "    <tr>\n",
       "      <th>2022-01-19</th>\n",
       "      <td>6.35</td>\n",
       "      <td>6.6</td>\n",
       "      <td>6.5</td>\n",
       "      <td>&lt;NA&gt;</td>\n",
       "    </tr>\n",
       "    <tr>\n",
       "      <th>2022-01-20</th>\n",
       "      <td>4.5</td>\n",
       "      <td>6.0</td>\n",
       "      <td>5.0</td>\n",
       "      <td>&lt;NA&gt;</td>\n",
       "    </tr>\n",
       "    <tr>\n",
       "      <th>2022-01-21</th>\n",
       "      <td>2.3</td>\n",
       "      <td>3.1</td>\n",
       "      <td>2.69</td>\n",
       "      <td>&lt;NA&gt;</td>\n",
       "    </tr>\n",
       "  </tbody>\n",
       "</table>\n",
       "</div>"
      ],
      "text/plain": [
       "AAPLA212216000.U^A22    BID    ASK  TRDPRC_1  SETTLE\n",
       "Date                                                \n",
       "2021-12-23            17.15  17.45     17.36    <NA>\n",
       "2021-12-27             20.9   21.0      21.0    <NA>\n",
       "2021-12-28            19.95   20.3     19.95    <NA>\n",
       "2021-12-29            19.85  20.05     20.05    <NA>\n",
       "2021-12-30             18.5   19.0      18.9    <NA>\n",
       "2021-12-31            17.95  18.75      18.2    <NA>\n",
       "2022-01-03             22.0  22.25     22.15    <NA>\n",
       "2022-01-04            19.85   20.2     20.07    <NA>\n",
       "2022-01-05            15.35   15.8     15.57    <NA>\n",
       "2022-01-06             12.7   13.0      12.8    <NA>\n",
       "2022-01-07            12.55   13.1     13.14    <NA>\n",
       "2022-01-10            12.65  12.95     13.05    <NA>\n",
       "2022-01-11             15.0   15.5      15.3    <NA>\n",
       "2022-01-12             15.5   15.9      15.3    <NA>\n",
       "2022-01-13             11.3   15.0      12.6    <NA>\n",
       "2022-01-14            12.95   13.5     13.28    <NA>\n",
       "2022-01-18              9.6   10.8      10.1    <NA>\n",
       "2022-01-19             6.35    6.6       6.5    <NA>\n",
       "2022-01-20              4.5    6.0       5.0    <NA>\n",
       "2022-01-21              2.3    3.1      2.69    <NA>"
      ]
     },
     "execution_count": 23,
     "metadata": {},
     "output_type": "execute_result"
    }
   ],
   "source": [
    "request_prices('AAPLA212216000.U^A22')"
   ]
  },
  {
   "cell_type": "markdown",
   "id": "827cf69d-4b32-4ae4-b5e3-3379bc2544c8",
   "metadata": {},
   "source": [
    "### Section 2: Define functions to get option RICs for each exchange"
   ]
  },
  {
   "cell_type": "markdown",
   "id": "1febcb85-d3f5-4bf2-b220-556269932a4c",
   "metadata": {},
   "source": [
    "In this section I define functions for option RIC construction for separate exchanges. Those functions take asset RIC, maturity, strike and opt type as an input and return validated rics along with the prices."
   ]
  },
  {
   "cell_type": "markdown",
   "id": "a6d3b74f-b95d-4f97-9e9f-c7f85c7fbf51",
   "metadata": {},
   "source": [
    "#### 2.1 Function for OPRA"
   ]
  },
  {
   "cell_type": "markdown",
   "id": "d95fec29-74bf-4491-ad1b-710eb55fb346",
   "metadata": {},
   "source": [
    "Below function returns option RICs for OPRA exchange."
   ]
  },
  {
   "cell_type": "code",
   "execution_count": 24,
   "id": "d2d02513-40ec-407a-a6d9-b27521cced4c",
   "metadata": {},
   "outputs": [],
   "source": [
    "def get_ric_opra(asset, maturity, strike, opt_type):\n",
    "    maturity = pd.to_datetime(maturity)\n",
    "    \n",
    "    # trim underlying asset's RIC to get the required part for option RIC\n",
    "    if asset[0] == '.': # check if the asset is an index or an equity\n",
    "        asset_name = asset[1:] # get the asset name - we remove \".\" symbol for index options\n",
    "    else:\n",
    "        asset_name = asset.split('.')[0] # we need only the first part of the RICs for equities\n",
    "        \n",
    "    ident, exp_month = get_exp_month(maturity, opt_type, strike = strike, opra=True)\n",
    "\n",
    "    # get strike prrice\n",
    "    if type(strike) == float:\n",
    "        int_part = int(strike)\n",
    "        dec_part = str(str(strike).split('.')[1])\n",
    "    else:\n",
    "        int_part = int(strike)\n",
    "        dec_part = '00'\n",
    "    if len(dec_part) == 1:\n",
    "        dec_part = dec_part + '0'\n",
    "\n",
    "    if int(strike) < 10:\n",
    "        strike_ric = '00' + str(int_part) + dec_part\n",
    "    elif int_part >= 10 and int_part < 100:\n",
    "        strike_ric = '0' + str(int_part) + dec_part\n",
    "    elif int_part >= 100 and int_part < 1000:\n",
    "        strike_ric = str(int_part) + dec_part\n",
    "    elif int_part >= 1000 and int_part < 10000:\n",
    "        strike_ric = str(int_part) + '0'\n",
    "    elif int_part >= 10000 and int_part < 20000:\n",
    "        strike_ric = 'A' + str(int_part)[-4:]\n",
    "    elif int_part >= 20000 and int_part < 30000:\n",
    "        strike_ric = 'B' + str(int_part)[-4:]      \n",
    "    elif int_part >= 30000 and int_part < 40000:\n",
    "        strike_ric = 'C' + str(int_part)[-4:]\n",
    "    elif int_part >= 40000 and int_part < 50000:\n",
    "        strike_ric = 'D' + str(int_part)[-4:]\n",
    "        \n",
    "    # build ric\n",
    "    ric = asset_name + exp_month + str(maturity.day) + str(maturity.year)[-2:] + strike_ric + '.U'\n",
    "    ric = check_expiry(ric, maturity, ident)\n",
    "    \n",
    "    prices = request_prices(ric)\n",
    "    \n",
    "    # return valid ric(s)\n",
    "    if len(prices) == 0:\n",
    "        print('RIC with specified parameters is not found')\n",
    "\n",
    "    return ric, prices"
   ]
  },
  {
   "cell_type": "code",
   "execution_count": 25,
   "id": "f12d5cff-e702-4ae8-a387-de21889fcaed",
   "metadata": {},
   "outputs": [],
   "source": [
    "ric, prices = get_ric_opra('AAPL.O', '2022-01-21', 180, 'C')"
   ]
  },
  {
   "cell_type": "code",
   "execution_count": 26,
   "id": "8b4d79df-4d65-4f94-847f-7d3599ef3a82",
   "metadata": {},
   "outputs": [
    {
     "data": {
      "text/plain": [
       "'AAPLA212218000.U^A22'"
      ]
     },
     "execution_count": 26,
     "metadata": {},
     "output_type": "execute_result"
    }
   ],
   "source": [
    "ric"
   ]
  },
  {
   "cell_type": "code",
   "execution_count": 27,
   "id": "d1429080-487f-4cbc-b342-dde398dcdb50",
   "metadata": {},
   "outputs": [
    {
     "data": {
      "text/html": [
       "<div>\n",
       "<style scoped>\n",
       "    .dataframe tbody tr th:only-of-type {\n",
       "        vertical-align: middle;\n",
       "    }\n",
       "\n",
       "    .dataframe tbody tr th {\n",
       "        vertical-align: top;\n",
       "    }\n",
       "\n",
       "    .dataframe thead th {\n",
       "        text-align: right;\n",
       "    }\n",
       "</style>\n",
       "<table border=\"1\" class=\"dataframe\">\n",
       "  <thead>\n",
       "    <tr style=\"text-align: right;\">\n",
       "      <th>AAPLA212218000.U^A22</th>\n",
       "      <th>BID</th>\n",
       "      <th>ASK</th>\n",
       "      <th>TRDPRC_1</th>\n",
       "      <th>SETTLE</th>\n",
       "    </tr>\n",
       "    <tr>\n",
       "      <th>Date</th>\n",
       "      <th></th>\n",
       "      <th></th>\n",
       "      <th></th>\n",
       "      <th></th>\n",
       "    </tr>\n",
       "  </thead>\n",
       "  <tbody>\n",
       "    <tr>\n",
       "      <th>2021-12-23</th>\n",
       "      <td>3.45</td>\n",
       "      <td>3.6</td>\n",
       "      <td>3.53</td>\n",
       "      <td>&lt;NA&gt;</td>\n",
       "    </tr>\n",
       "    <tr>\n",
       "      <th>2021-12-27</th>\n",
       "      <td>5.15</td>\n",
       "      <td>5.25</td>\n",
       "      <td>5.2</td>\n",
       "      <td>&lt;NA&gt;</td>\n",
       "    </tr>\n",
       "    <tr>\n",
       "      <th>2021-12-28</th>\n",
       "      <td>4.55</td>\n",
       "      <td>4.7</td>\n",
       "      <td>4.55</td>\n",
       "      <td>&lt;NA&gt;</td>\n",
       "    </tr>\n",
       "    <tr>\n",
       "      <th>2021-12-29</th>\n",
       "      <td>4.25</td>\n",
       "      <td>4.35</td>\n",
       "      <td>4.25</td>\n",
       "      <td>&lt;NA&gt;</td>\n",
       "    </tr>\n",
       "    <tr>\n",
       "      <th>2021-12-30</th>\n",
       "      <td>3.45</td>\n",
       "      <td>3.6</td>\n",
       "      <td>3.5</td>\n",
       "      <td>&lt;NA&gt;</td>\n",
       "    </tr>\n",
       "  </tbody>\n",
       "</table>\n",
       "</div>"
      ],
      "text/plain": [
       "AAPLA212218000.U^A22   BID   ASK  TRDPRC_1  SETTLE\n",
       "Date                                              \n",
       "2021-12-23            3.45   3.6      3.53    <NA>\n",
       "2021-12-27            5.15  5.25       5.2    <NA>\n",
       "2021-12-28            4.55   4.7      4.55    <NA>\n",
       "2021-12-29            4.25  4.35      4.25    <NA>\n",
       "2021-12-30            3.45   3.6       3.5    <NA>"
      ]
     },
     "execution_count": 27,
     "metadata": {},
     "output_type": "execute_result"
    }
   ],
   "source": [
    "prices.head()"
   ]
  },
  {
   "cell_type": "markdown",
   "id": "67083d96-c1c7-4fdf-b378-4a4877e473f3",
   "metadata": {},
   "source": [
    "#### 2.2 Function for the Stock Exchange of Hong Kong"
   ]
  },
  {
   "cell_type": "markdown",
   "id": "088e1c63-166a-4a5c-8f6c-4d3bdb3bfc59",
   "metadata": {},
   "source": [
    "Below function returns option RICs for Hong Kong exchange."
   ]
  },
  {
   "cell_type": "code",
   "execution_count": 28,
   "id": "7d3c936e-bf58-4e80-acc4-eb5d3fd1b40c",
   "metadata": {},
   "outputs": [],
   "source": [
    "def get_ric_hk(asset, maturity, strike, opt_type):\n",
    "    maturity = pd.to_datetime(maturity)\n",
    "    \n",
    "    # get asset name and strike price for the asset\n",
    "    if asset[0] == '.': \n",
    "        asset_name = asset[1:] \n",
    "        strike_ric = str(int(strike))\n",
    "    else:\n",
    "        asset_name = asset.split('.')[0]\n",
    "        strike_ric = str(int(strike * 100))\n",
    "     \n",
    "    # get expiration month codes\n",
    "    ident, exp_month = get_exp_month(maturity, opt_type)\n",
    "\n",
    "    # get rics for options on indexes. Return if valid add to the possible_rics list if no price is found\n",
    "    if asset[0] == '.':\n",
    "        ric = asset_name + strike_ric + exp_month + str(maturity.year)[-1:] + '.HF'\n",
    "        ric = check_expiry(ric, maturity, ident)\n",
    "        prices = request_prices(ric)\n",
    "        \n",
    "        if len(prices) == 0:\n",
    "            print('RIC with specified parameters is not found')\n",
    "        else:\n",
    "            return ric, prices\n",
    "    else:\n",
    "        # get rics for options on equities. Return if valid add to the possible_rics list if no price is found\n",
    "        # there could be several generations of options depending on the number of price adjustments due to a corporate event\n",
    "        # here we use 4 adjustment opportunities.\n",
    "        for i in range(4): \n",
    "            ric = asset_name + strike_ric + str(i)+ exp_month + str(maturity.year)[-1:] + '.HK'\n",
    "            ric = check_expiry(ric, maturity, ident)\n",
    "            prices = request_prices(ric)\n",
    "            if len(prices) == 0:\n",
    "                print('RIC with specified parameters is not found')\n",
    "            else:\n",
    "                return ric, prices\n",
    "    return ric, prices"
   ]
  },
  {
   "cell_type": "code",
   "execution_count": 29,
   "id": "7a135035-2045-4f61-85ca-d61f130a9e8a",
   "metadata": {},
   "outputs": [],
   "source": [
    "ric, prices = get_ric_hk('.HSI', '2022-03-30', 18400, 'C')"
   ]
  },
  {
   "cell_type": "code",
   "execution_count": 30,
   "id": "32bfe757-5a4e-4b37-9e39-becbf47d7ba4",
   "metadata": {},
   "outputs": [
    {
     "data": {
      "text/plain": [
       "'HSI18400C2.HF^C22'"
      ]
     },
     "execution_count": 30,
     "metadata": {},
     "output_type": "execute_result"
    }
   ],
   "source": [
    "ric"
   ]
  },
  {
   "cell_type": "code",
   "execution_count": 31,
   "id": "bdbf01c9-1b50-4b0f-ad9b-365f3cb8fa15",
   "metadata": {},
   "outputs": [
    {
     "data": {
      "text/html": [
       "<div>\n",
       "<style scoped>\n",
       "    .dataframe tbody tr th:only-of-type {\n",
       "        vertical-align: middle;\n",
       "    }\n",
       "\n",
       "    .dataframe tbody tr th {\n",
       "        vertical-align: top;\n",
       "    }\n",
       "\n",
       "    .dataframe thead th {\n",
       "        text-align: right;\n",
       "    }\n",
       "</style>\n",
       "<table border=\"1\" class=\"dataframe\">\n",
       "  <thead>\n",
       "    <tr style=\"text-align: right;\">\n",
       "      <th>HSI18400C2.HF^C22</th>\n",
       "      <th>BID</th>\n",
       "      <th>ASK</th>\n",
       "      <th>TRDPRC_1</th>\n",
       "      <th>SETTLE</th>\n",
       "    </tr>\n",
       "    <tr>\n",
       "      <th>Date</th>\n",
       "      <th></th>\n",
       "      <th></th>\n",
       "      <th></th>\n",
       "      <th></th>\n",
       "    </tr>\n",
       "  </thead>\n",
       "  <tbody>\n",
       "    <tr>\n",
       "      <th>2022-03-03</th>\n",
       "      <td>&lt;NA&gt;</td>\n",
       "      <td>&lt;NA&gt;</td>\n",
       "      <td>&lt;NA&gt;</td>\n",
       "      <td>3993</td>\n",
       "    </tr>\n",
       "    <tr>\n",
       "      <th>2022-03-04</th>\n",
       "      <td>&lt;NA&gt;</td>\n",
       "      <td>&lt;NA&gt;</td>\n",
       "      <td>&lt;NA&gt;</td>\n",
       "      <td>3475</td>\n",
       "    </tr>\n",
       "    <tr>\n",
       "      <th>2022-03-07</th>\n",
       "      <td>&lt;NA&gt;</td>\n",
       "      <td>&lt;NA&gt;</td>\n",
       "      <td>&lt;NA&gt;</td>\n",
       "      <td>2622</td>\n",
       "    </tr>\n",
       "    <tr>\n",
       "      <th>2022-03-08</th>\n",
       "      <td>&lt;NA&gt;</td>\n",
       "      <td>&lt;NA&gt;</td>\n",
       "      <td>&lt;NA&gt;</td>\n",
       "      <td>2573</td>\n",
       "    </tr>\n",
       "    <tr>\n",
       "      <th>2022-03-09</th>\n",
       "      <td>&lt;NA&gt;</td>\n",
       "      <td>&lt;NA&gt;</td>\n",
       "      <td>&lt;NA&gt;</td>\n",
       "      <td>2246</td>\n",
       "    </tr>\n",
       "  </tbody>\n",
       "</table>\n",
       "</div>"
      ],
      "text/plain": [
       "HSI18400C2.HF^C22   BID   ASK  TRDPRC_1  SETTLE\n",
       "Date                                           \n",
       "2022-03-03         <NA>  <NA>      <NA>    3993\n",
       "2022-03-04         <NA>  <NA>      <NA>    3475\n",
       "2022-03-07         <NA>  <NA>      <NA>    2622\n",
       "2022-03-08         <NA>  <NA>      <NA>    2573\n",
       "2022-03-09         <NA>  <NA>      <NA>    2246"
      ]
     },
     "execution_count": 31,
     "metadata": {},
     "output_type": "execute_result"
    }
   ],
   "source": [
    "prices.head()"
   ]
  },
  {
   "cell_type": "markdown",
   "id": "1dad48ca-0062-49fb-92d7-c99fdb9c0484",
   "metadata": {},
   "source": [
    "#### 2.3 Function for the Osaka Stock Exchange"
   ]
  },
  {
   "cell_type": "markdown",
   "id": "331fe493-d156-4772-aae0-8ff38dafcb2e",
   "metadata": {},
   "source": [
    "Below function returns option RICs for Osaka exchange."
   ]
  },
  {
   "cell_type": "code",
   "execution_count": 32,
   "id": "d580522f-411d-48aa-8451-ba4d33ccdea8",
   "metadata": {},
   "outputs": [],
   "source": [
    "def get_ric_ose(asset, maturity, strike, opt_type):\n",
    "    \n",
    "    maturity = pd.to_datetime(maturity)\n",
    "    strike_ric = str(strike)[:3] \n",
    "    ident, exp_month = get_exp_month(maturity, opt_type)\n",
    "    \n",
    "    j_nets = ['', 'L', 'R']\n",
    "    generations = ['Y', 'Z', 'A', 'B', 'C']\n",
    "    \n",
    "    if asset[0] == '.':\n",
    "        index_dict = {'N225':'JNI', 'TOPX':'JTI'}\n",
    "        # Option Root codes for indexes are different from the RIC, so we rename where necessery\n",
    "        asset_name = index_dict[asset.split('.')[1]]\n",
    "        \n",
    "        # we consider also J-NET (Off-Auction(with \"L\")) and High  frequency (with 'R') option structures \n",
    "        for jnet in j_nets:\n",
    "            ric = asset_name + jnet + strike_ric + exp_month + str(maturity.year)[-1:] + '.OS'\n",
    "            ric = check_expiry(ric, maturity, ident)\n",
    "            prices = request_prices(ric)\n",
    "            if len(prices) == 0:\n",
    "                print('RIC with specified parameters is not found')\n",
    "            else:\n",
    "                return ric, prices\n",
    "    else:\n",
    "        asset_name = asset.split('.')[0]\n",
    "         # these are generation codes similar to one from HK \n",
    "        for jnet in j_nets:\n",
    "            for gen in generations:\n",
    "                ric = asset_name + jnet + gen + strike_ric + exp_month + str(maturity.year)[-1:] + '.OS'\n",
    "                ric = check_expiry(ric, maturity, ident)\n",
    "                prices = request_prices(ric)\n",
    "                if len(prices) == 0:\n",
    "                    print('RIC with specified parameters is not found')\n",
    "                else:\n",
    "                    return ric, prices\n",
    "    return ric, prices"
   ]
  },
  {
   "cell_type": "code",
   "execution_count": 33,
   "id": "ab24a3b4-6134-4a01-9713-f8366a9694d6",
   "metadata": {},
   "outputs": [],
   "source": [
    "ric, prices = get_ric_ose('7974.T', '2022-03-30', 50000, 'P')"
   ]
  },
  {
   "cell_type": "code",
   "execution_count": 34,
   "id": "0fe4b327-64cc-47aa-a754-d3fe33698c9b",
   "metadata": {},
   "outputs": [
    {
     "data": {
      "text/plain": [
       "'7974Y500O2.OS^C22'"
      ]
     },
     "execution_count": 34,
     "metadata": {},
     "output_type": "execute_result"
    }
   ],
   "source": [
    "ric"
   ]
  },
  {
   "cell_type": "code",
   "execution_count": 35,
   "id": "911c0b4c-bd64-4817-8b58-fd5a0dde6092",
   "metadata": {},
   "outputs": [
    {
     "data": {
      "text/html": [
       "<div>\n",
       "<style scoped>\n",
       "    .dataframe tbody tr th:only-of-type {\n",
       "        vertical-align: middle;\n",
       "    }\n",
       "\n",
       "    .dataframe tbody tr th {\n",
       "        vertical-align: top;\n",
       "    }\n",
       "\n",
       "    .dataframe thead th {\n",
       "        text-align: right;\n",
       "    }\n",
       "</style>\n",
       "<table border=\"1\" class=\"dataframe\">\n",
       "  <thead>\n",
       "    <tr style=\"text-align: right;\">\n",
       "      <th>7974Y500O2.OS^C22</th>\n",
       "      <th>BID</th>\n",
       "      <th>ASK</th>\n",
       "      <th>TRDPRC_1</th>\n",
       "      <th>SETTLE</th>\n",
       "    </tr>\n",
       "    <tr>\n",
       "      <th>Date</th>\n",
       "      <th></th>\n",
       "      <th></th>\n",
       "      <th></th>\n",
       "      <th></th>\n",
       "    </tr>\n",
       "  </thead>\n",
       "  <tbody>\n",
       "    <tr>\n",
       "      <th>2022-02-08</th>\n",
       "      <td>&lt;NA&gt;</td>\n",
       "      <td>&lt;NA&gt;</td>\n",
       "      <td>&lt;NA&gt;</td>\n",
       "      <td>602.5</td>\n",
       "    </tr>\n",
       "    <tr>\n",
       "      <th>2022-02-09</th>\n",
       "      <td>&lt;NA&gt;</td>\n",
       "      <td>&lt;NA&gt;</td>\n",
       "      <td>&lt;NA&gt;</td>\n",
       "      <td>520.5</td>\n",
       "    </tr>\n",
       "    <tr>\n",
       "      <th>2022-02-10</th>\n",
       "      <td>&lt;NA&gt;</td>\n",
       "      <td>&lt;NA&gt;</td>\n",
       "      <td>&lt;NA&gt;</td>\n",
       "      <td>549.0</td>\n",
       "    </tr>\n",
       "    <tr>\n",
       "      <th>2022-02-14</th>\n",
       "      <td>&lt;NA&gt;</td>\n",
       "      <td>&lt;NA&gt;</td>\n",
       "      <td>&lt;NA&gt;</td>\n",
       "      <td>629.5</td>\n",
       "    </tr>\n",
       "    <tr>\n",
       "      <th>2022-02-15</th>\n",
       "      <td>&lt;NA&gt;</td>\n",
       "      <td>&lt;NA&gt;</td>\n",
       "      <td>&lt;NA&gt;</td>\n",
       "      <td>612.5</td>\n",
       "    </tr>\n",
       "  </tbody>\n",
       "</table>\n",
       "</div>"
      ],
      "text/plain": [
       "7974Y500O2.OS^C22   BID   ASK  TRDPRC_1  SETTLE\n",
       "Date                                           \n",
       "2022-02-08         <NA>  <NA>      <NA>   602.5\n",
       "2022-02-09         <NA>  <NA>      <NA>   520.5\n",
       "2022-02-10         <NA>  <NA>      <NA>   549.0\n",
       "2022-02-14         <NA>  <NA>      <NA>   629.5\n",
       "2022-02-15         <NA>  <NA>      <NA>   612.5"
      ]
     },
     "execution_count": 35,
     "metadata": {},
     "output_type": "execute_result"
    }
   ],
   "source": [
    "prices.head()"
   ]
  },
  {
   "cell_type": "markdown",
   "id": "e4fd69a6-f895-43af-a542-522be133cd36",
   "metadata": {},
   "source": [
    "#### 2.4 Function for the EUREX"
   ]
  },
  {
   "cell_type": "markdown",
   "id": "57cbbf47-2fe1-4e54-af20-5491ddca36d1",
   "metadata": {},
   "source": [
    "Below function returns option RICs for EUREX exchange."
   ]
  },
  {
   "cell_type": "code",
   "execution_count": 36,
   "id": "ef242105-ea52-4aed-8bfe-000eb214375b",
   "metadata": {},
   "outputs": [],
   "source": [
    "def get_ric_eurex(asset, maturity, strike, opt_type):\n",
    "    maturity = pd.to_datetime(maturity)\n",
    "\n",
    "    if asset[0] == '.': \n",
    "        index_dict = {'FTSE':'OTUK', 'SSMI':'OSMI', 'GDAXI':'GDAX', 'ATX':'FATXA', 'STOXX50E':'STXE'}\n",
    "        asset_name = index_dict[asset.split('.')[1]]\n",
    "    else:\n",
    "        asset_name = asset.split('.')[0]\n",
    "        \n",
    "    ident, exp_month = get_exp_month(maturity, opt_type)\n",
    "        \n",
    "    if type(strike) == float:\n",
    "        int_part = int(strike)\n",
    "        dec_part = str(str(strike).split('.')[1])[0]\n",
    "    else:\n",
    "        int_part = int(strike)\n",
    "        dec_part = '0'      \n",
    "    if len(str(int(strike))) == 1:\n",
    "        strike_ric = '0' + str(int_part) + dec_part\n",
    "    else:\n",
    "        strike_ric = str(int_part) + dec_part\n",
    "    \n",
    "    generations = ['', 'a', 'b', 'c', 'd']\n",
    "    for gen in generations:\n",
    "        ric = asset_name + strike_ric  + gen + exp_month + str(maturity.year)[-1:] + '.EX'\n",
    "        ric = check_expiry(ric, maturity, ident)\n",
    "        prices = request_prices(ric)\n",
    "        if len(prices) == 0:\n",
    "            print('RIC with specified parameters is not found')\n",
    "        else:\n",
    "            return ric, prices\n",
    "    return ric, prices"
   ]
  },
  {
   "cell_type": "code",
   "execution_count": 37,
   "id": "eb8ca6d7-999b-4277-814b-e43f26543a0c",
   "metadata": {},
   "outputs": [],
   "source": [
    "ric, prices = get_ric_eurex('.STOXX50E', '2022-03-30', 4200, 'P')"
   ]
  },
  {
   "cell_type": "code",
   "execution_count": 38,
   "id": "36318d6a-6511-4734-9fb9-4d5c253b8a28",
   "metadata": {},
   "outputs": [
    {
     "data": {
      "text/plain": [
       "'STXE42000O2.EX^C22'"
      ]
     },
     "execution_count": 38,
     "metadata": {},
     "output_type": "execute_result"
    }
   ],
   "source": [
    "ric"
   ]
  },
  {
   "cell_type": "code",
   "execution_count": 39,
   "id": "5869fbb9-0d3e-46b4-aecb-8154bf9f4074",
   "metadata": {},
   "outputs": [
    {
     "data": {
      "text/html": [
       "<div>\n",
       "<style scoped>\n",
       "    .dataframe tbody tr th:only-of-type {\n",
       "        vertical-align: middle;\n",
       "    }\n",
       "\n",
       "    .dataframe tbody tr th {\n",
       "        vertical-align: top;\n",
       "    }\n",
       "\n",
       "    .dataframe thead th {\n",
       "        text-align: right;\n",
       "    }\n",
       "</style>\n",
       "<table border=\"1\" class=\"dataframe\">\n",
       "  <thead>\n",
       "    <tr style=\"text-align: right;\">\n",
       "      <th>STXE42000O2.EX^C22</th>\n",
       "      <th>BID</th>\n",
       "      <th>ASK</th>\n",
       "      <th>TRDPRC_1</th>\n",
       "      <th>SETTLE</th>\n",
       "    </tr>\n",
       "    <tr>\n",
       "      <th>Date</th>\n",
       "      <th></th>\n",
       "      <th></th>\n",
       "      <th></th>\n",
       "      <th></th>\n",
       "    </tr>\n",
       "  </thead>\n",
       "  <tbody>\n",
       "    <tr>\n",
       "      <th>2022-02-21</th>\n",
       "      <td>246.2</td>\n",
       "      <td>256.5</td>\n",
       "      <td>250.0</td>\n",
       "      <td>250.4</td>\n",
       "    </tr>\n",
       "    <tr>\n",
       "      <th>2022-02-22</th>\n",
       "      <td>241.7</td>\n",
       "      <td>253.0</td>\n",
       "      <td>227.5</td>\n",
       "      <td>246.3</td>\n",
       "    </tr>\n",
       "    <tr>\n",
       "      <th>2022-02-23</th>\n",
       "      <td>245.1</td>\n",
       "      <td>259.9</td>\n",
       "      <td>246.0</td>\n",
       "      <td>253.3</td>\n",
       "    </tr>\n",
       "    <tr>\n",
       "      <th>2022-02-24</th>\n",
       "      <td>70.0</td>\n",
       "      <td>391.5</td>\n",
       "      <td>375.0</td>\n",
       "      <td>382.9</td>\n",
       "    </tr>\n",
       "    <tr>\n",
       "      <th>2022-02-25</th>\n",
       "      <td>247.1</td>\n",
       "      <td>263.3</td>\n",
       "      <td>271.0</td>\n",
       "      <td>252.8</td>\n",
       "    </tr>\n",
       "  </tbody>\n",
       "</table>\n",
       "</div>"
      ],
      "text/plain": [
       "STXE42000O2.EX^C22    BID    ASK  TRDPRC_1  SETTLE\n",
       "Date                                              \n",
       "2022-02-21          246.2  256.5     250.0   250.4\n",
       "2022-02-22          241.7  253.0     227.5   246.3\n",
       "2022-02-23          245.1  259.9     246.0   253.3\n",
       "2022-02-24           70.0  391.5     375.0   382.9\n",
       "2022-02-25          247.1  263.3     271.0   252.8"
      ]
     },
     "execution_count": 39,
     "metadata": {},
     "output_type": "execute_result"
    }
   ],
   "source": [
    "prices.head()"
   ]
  },
  {
   "cell_type": "markdown",
   "id": "99e558ab-dbaf-4f9f-bdb0-43198e0a26f5",
   "metadata": {},
   "source": [
    "#### 2.5 Function for the Intercontinental Exchange"
   ]
  },
  {
   "cell_type": "markdown",
   "id": "1f7e0b3d-6ce5-4548-8810-435c6aa95592",
   "metadata": {},
   "source": [
    "Below function returns option RICs for Intercontinental Exchange exchange."
   ]
  },
  {
   "cell_type": "code",
   "execution_count": 40,
   "id": "8a265c25-8201-4ff2-8e51-04a158a10f77",
   "metadata": {},
   "outputs": [],
   "source": [
    "def get_ric_ieu(asset, maturity, strike, opt_type):\n",
    "    maturity = pd.to_datetime(maturity)\n",
    "    \n",
    "    if asset[0] == '.':\n",
    "        index_dict = {'FTSE':'LFE'}\n",
    "        asset_name = index_dict[asset.split('.')[1]]     \n",
    "    else:\n",
    "        asset_name = asset.split('.')[0] \n",
    "        \n",
    "    ident, exp_month = get_exp_month(maturity, opt_type)\n",
    "\n",
    "    if len(str(int(strike))) == 2:\n",
    "        strike_ric = '0' + str(int(strike))\n",
    "    else:\n",
    "        strike_ric = str(int(strike))\n",
    "        \n",
    "    if type(strike) == float and len(str(int(strike))) == 1:\n",
    "        int_part = int(strike)\n",
    "        dec_part = str(str(strike).split('.')[1])[0]        \n",
    "        strike_ric = '0' + str(int_part) + dec_part\n",
    "    \n",
    "    generations = ['', 'a', 'b', 'c', 'd']\n",
    "    for gen in generations:\n",
    "        ric = asset_name + strike_ric  + gen + exp_month + str(maturity.year)[-1:] + '.L'\n",
    "        ric = check_expiry(ric, maturity, ident)\n",
    "        prices = request_prices(ric)\n",
    "        if len(prices) == 0:\n",
    "            print('RIC with specified parameters is not found')\n",
    "        else:\n",
    "            return ric, prices\n",
    "    return  ric, prices"
   ]
  },
  {
   "cell_type": "code",
   "execution_count": 41,
   "id": "d1b442fc-3006-482c-b896-cf713d452d7c",
   "metadata": {},
   "outputs": [],
   "source": [
    "ric, prices = get_ric_ieu('.FTSE', '2022-06-30', 7000, 'C')"
   ]
  },
  {
   "cell_type": "code",
   "execution_count": 42,
   "id": "71dde229-2b4d-4d68-a70f-3a06a64dc048",
   "metadata": {},
   "outputs": [
    {
     "data": {
      "text/plain": [
       "'LFE7000F2.L^F22'"
      ]
     },
     "execution_count": 42,
     "metadata": {},
     "output_type": "execute_result"
    }
   ],
   "source": [
    "ric"
   ]
  },
  {
   "cell_type": "code",
   "execution_count": 43,
   "id": "0596b850-c36a-49ea-91ce-878ad98aa29e",
   "metadata": {},
   "outputs": [
    {
     "data": {
      "text/html": [
       "<div>\n",
       "<style scoped>\n",
       "    .dataframe tbody tr th:only-of-type {\n",
       "        vertical-align: middle;\n",
       "    }\n",
       "\n",
       "    .dataframe tbody tr th {\n",
       "        vertical-align: top;\n",
       "    }\n",
       "\n",
       "    .dataframe thead th {\n",
       "        text-align: right;\n",
       "    }\n",
       "</style>\n",
       "<table border=\"1\" class=\"dataframe\">\n",
       "  <thead>\n",
       "    <tr style=\"text-align: right;\">\n",
       "      <th>LFE7000F2.L^F22</th>\n",
       "      <th>BID</th>\n",
       "      <th>ASK</th>\n",
       "      <th>TRDPRC_1</th>\n",
       "      <th>SETTLE</th>\n",
       "    </tr>\n",
       "    <tr>\n",
       "      <th>Date</th>\n",
       "      <th></th>\n",
       "      <th></th>\n",
       "      <th></th>\n",
       "      <th></th>\n",
       "    </tr>\n",
       "  </thead>\n",
       "  <tbody>\n",
       "    <tr>\n",
       "      <th>2022-05-23</th>\n",
       "      <td>&lt;NA&gt;</td>\n",
       "      <td>&lt;NA&gt;</td>\n",
       "      <td>&lt;NA&gt;</td>\n",
       "      <td>530.5</td>\n",
       "    </tr>\n",
       "    <tr>\n",
       "      <th>2022-05-24</th>\n",
       "      <td>518</td>\n",
       "      <td>537.5</td>\n",
       "      <td>&lt;NA&gt;</td>\n",
       "      <td>510.0</td>\n",
       "    </tr>\n",
       "    <tr>\n",
       "      <th>2022-05-25</th>\n",
       "      <td>&lt;NA&gt;</td>\n",
       "      <td>&lt;NA&gt;</td>\n",
       "      <td>&lt;NA&gt;</td>\n",
       "      <td>551.5</td>\n",
       "    </tr>\n",
       "    <tr>\n",
       "      <th>2022-05-26</th>\n",
       "      <td>&lt;NA&gt;</td>\n",
       "      <td>&lt;NA&gt;</td>\n",
       "      <td>&lt;NA&gt;</td>\n",
       "      <td>584.5</td>\n",
       "    </tr>\n",
       "    <tr>\n",
       "      <th>2022-05-27</th>\n",
       "      <td>&lt;NA&gt;</td>\n",
       "      <td>&lt;NA&gt;</td>\n",
       "      <td>&lt;NA&gt;</td>\n",
       "      <td>596.5</td>\n",
       "    </tr>\n",
       "  </tbody>\n",
       "</table>\n",
       "</div>"
      ],
      "text/plain": [
       "LFE7000F2.L^F22   BID    ASK  TRDPRC_1  SETTLE\n",
       "Date                                          \n",
       "2022-05-23       <NA>   <NA>      <NA>   530.5\n",
       "2022-05-24        518  537.5      <NA>   510.0\n",
       "2022-05-25       <NA>   <NA>      <NA>   551.5\n",
       "2022-05-26       <NA>   <NA>      <NA>   584.5\n",
       "2022-05-27       <NA>   <NA>      <NA>   596.5"
      ]
     },
     "execution_count": 43,
     "metadata": {},
     "output_type": "execute_result"
    }
   ],
   "source": [
    "prices.head()"
   ]
  },
  {
   "cell_type": "markdown",
   "id": "d67ba013-3910-4d96-a6e3-a200124e17af",
   "metadata": {},
   "source": [
    "### Section 3: Universal function for all above exchanges"
   ]
  },
  {
   "cell_type": "markdown",
   "id": "804da450-86b3-4c1a-a110-6f99bde288fb",
   "metadata": {},
   "source": [
    "In this section I built a universal function which takes ric, maturity, strike and option type as an input, finds all exchanges where the options on given asset are traded, constructs RICs for them, validates and returns the constructed RICs along with the prices."
   ]
  },
  {
   "cell_type": "code",
   "execution_count": 45,
   "id": "d641b025-e3e8-4f75-82ac-85310d31852f",
   "metadata": {},
   "outputs": [],
   "source": [
    "def get_option_ric(asset, maturity, strike, opt_type):\n",
    "    \n",
    "    # define covered exchanges along with functions to get RICs from\n",
    "    exchanges = {'OPQ': get_ric_opra,\n",
    "           'IEU': get_ric_ieu,\n",
    "           'EUX': get_ric_eurex,\n",
    "           'HKG': get_ric_hk,\n",
    "           'HFE': get_ric_hk,\n",
    "           'OSA': get_ric_ose}\n",
    "    \n",
    "    # get exchanges codes where the option on the given asset is traded\n",
    "    exchnage_codes = get_exchange_code(asset)\n",
    "    # get the list of (from all available and covered exchanges) valid rics and their prices\n",
    "    options_data = {}\n",
    "    for exch in exchnage_codes:\n",
    "        if exch in exchanges.keys():\n",
    "            ric, prices = exchanges[exch](asset, maturity, strike, opt_type)\n",
    "            if len(prices) != 0:\n",
    "                options_data[ric] = prices\n",
    "                print(f'Option RIC for {exch} exchange is successfully constructed')     \n",
    "        else:\n",
    "            print(f'The {exch} exchange is not supported yet')\n",
    "    return options_data"
   ]
  },
  {
   "cell_type": "code",
   "execution_count": 46,
   "id": "e0dec70b-dd33-4b47-8f83-71f2b33939ec",
   "metadata": {},
   "outputs": [
    {
     "name": "stdout",
     "output_type": "stream",
     "text": [
      "Option RIC for OPQ exchange is successfully constructed\n"
     ]
    }
   ],
   "source": [
    "# options_data = get_option_ric('ABBN.S', '2022-03-30', 34, 'C')\n",
    "# options_data = get_option_ric('ALVG.DE', '2022-03-18', 220, 'C')\n",
    "# options_data = get_option_ric('BBVA.MC', '2022-03-18', 4.7, 'C')\n",
    "# options_data = get_option_ric('AIRP.PA', '2022-03-18', 150, 'C')\n",
    "# options_data = get_option_ric('BARC.L', '2022-03-18', 210, 'P')\n",
    "# options_data = get_option_ric('AZN.L', '2022-03-18', 9000, 'P')\n",
    "# options_data = get_option_ric('VOD.L', '2022-03-18', 100, 'P')\n",
    "# options_data = get_option_ric('ALSO.PA', '2022-06-18', 36, 'P')\n",
    "# options_data = get_option_ric('ENI.MI', '2022-06-16', 13, 'C')\n",
    "# options_data = get_option_ric('ASML.AS', '2022-02-18', 640, 'P')\n",
    "# options_data = get_option_ric('.HSI', '2022-03-30', 18400, 'C')\n",
    "# options_data = get_option_ric('1093.HK', '2022-03-30', 10, 'C')\n",
    "# options_data = get_option_ric('0700.HK', '2022-04-28', 480, 'C')\n",
    "# options_data = get_option_ric('.TOPX', '2022-06-10', 1900, 'C')\n",
    "# options_data = get_option_ric('6501.T', '2022-06-10', 6500, 'C')\n",
    "# options_data = get_option_ric('.STOXX50E', '2022-03-18', 4200, 'C')\n",
    "# options_data = get_option_ric('.N225', '2022-01-17', 25875, 'C')\n",
    "options_data = get_option_ric('.SPX', '2022-02-18', 5000, 'C')"
   ]
  },
  {
   "cell_type": "code",
   "execution_count": 48,
   "id": "5041902a-ac22-417b-ac80-dec71dc423c7",
   "metadata": {},
   "outputs": [
    {
     "data": {
      "text/plain": [
       "{'SPXb182250000.U^B22': SPXb182250000.U^B22   BID   ASK  TRDPRC_1  SETTLE\n",
       " Date                                             \n",
       " 2022-01-21           0.25   0.6       0.5    <NA>\n",
       " 2022-01-24            0.5   0.7      0.65    <NA>\n",
       " 2022-01-25            0.4   0.6      0.53    <NA>\n",
       " 2022-01-26            0.4   0.8      0.75    <NA>\n",
       " 2022-01-27            0.3   0.4       0.4    <NA>\n",
       " 2022-01-28           0.45  0.65       0.6    <NA>\n",
       " 2022-01-31            0.2   0.3      0.25    <NA>\n",
       " 2022-02-01            0.2   0.3      0.23    <NA>\n",
       " 2022-02-02           0.05  0.25      0.25    <NA>\n",
       " 2022-02-03           0.05  0.15      0.15    <NA>\n",
       " 2022-02-04           0.05   0.1       0.1    <NA>\n",
       " 2022-02-07           <NA>   0.1      0.05    <NA>\n",
       " 2022-02-08           <NA>   0.1      0.08    <NA>\n",
       " 2022-02-09           <NA>  0.15      0.08    <NA>\n",
       " 2022-02-10           <NA>  0.05      0.03    <NA>\n",
       " 2022-02-11           <NA>  0.15      <NA>    <NA>\n",
       " 2022-02-14           <NA>  0.05      0.05    <NA>\n",
       " 2022-02-15           <NA>  0.05      0.05    <NA>\n",
       " 2022-02-16           <NA>  0.05      0.05    <NA>\n",
       " 2022-02-17           <NA>  0.05      0.05    <NA>}"
      ]
     },
     "execution_count": 48,
     "metadata": {},
     "output_type": "execute_result"
    }
   ],
   "source": [
    "options_data"
   ]
  },
  {
   "cell_type": "markdown",
   "id": "beb70ece-8578-4a37-8c21-fa38ac737758",
   "metadata": {},
   "source": [
    "### Conclusion"
   ]
  },
  {
   "cell_type": "markdown",
   "id": "7d887590-6721-4b6d-bec0-8c025a53bd48",
   "metadata": {},
   "source": [
    "Current article preseneted functions to find valid RICs for options on stock and indices traded in several exchanges. Additionally, I presented a universal function which finds the exchanges where an option on a given asset is traded, constructs RICs for them, validates and returns the constructed RICs along with the price.\n",
    "\n",
    "The current version of this article is limited for certain exchanges, includig OPRA, EUREX, ICE, Hong Kong and Osaka, and for options on certain asset types, including indices and stocks. Please let me know which other exchanges and/or options on other asset categories you want me to build functions for. You can contact me directly via h.aramyan@refinitiv.com or raise your questions/suggestion via Q&A portal of Developer community."
   ]
  }
 ],
 "metadata": {
  "kernelspec": {
   "display_name": "Python 3",
   "language": "python",
   "name": "python3"
  },
  "language_info": {
   "codemirror_mode": {
    "name": "ipython",
    "version": 3
   },
   "file_extension": ".py",
   "mimetype": "text/x-python",
   "name": "python",
   "nbconvert_exporter": "python",
   "pygments_lexer": "ipython3",
   "version": "3.8.15"
  },
  "widgets": {
   "application/vnd.jupyter.widget-state+json": {
    "state": {},
    "version_major": 2,
    "version_minor": 0
   }
  }
 },
 "nbformat": 4,
 "nbformat_minor": 5
}
