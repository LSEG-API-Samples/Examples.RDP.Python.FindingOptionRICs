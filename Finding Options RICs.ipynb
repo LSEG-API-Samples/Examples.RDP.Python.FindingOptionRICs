{
 "cells": [
  {
   "attachments": {
    "ceb40f2b-d239-49b2-823c-77eab907a841.png": {
     "image/png": "[encoded data removed]"
    }
   },
   "cell_type": "markdown",
   "id": "de47d58e-c751-471d-af32-6f22493380ba",
   "metadata": {
    "tags": []
   },
   "source": [
    "![refinitiv.png](attachment:ceb40f2b-d239-49b2-823c-77eab907a841.png)\n",
    "\n",
    "# 2022:Refinitiv Article series. All rights reserved"
   ]
  },
  {
   "cell_type": "markdown",
   "id": "43fbaf72-4209-4005-bb1d-f4ec45e69a61",
   "metadata": {},
   "source": [
    "## Finding Option RICs"
   ]
  },
  {
   "cell_type": "markdown",
   "id": "25ca3837-5ff7-45e5-8b41-ef28908b42d2",
   "metadata": {},
   "source": [
    "[Overview](#Overview)<br>\n",
    "[Install and import packages](#Install-and-import-packages)<br>\n",
    "[Section 1: Define supplementary functions](#Section-1:-Define-supplementary-functions)<br>\n",
    "&nbsp;&nbsp;&nbsp;&nbsp;&nbsp;&nbsp; [1.1 Function to get exchange codes where the option is traded](#1.1-Function-to-get-exchange-codes-where-the-option-is-traded)<br>\n",
    "&nbsp;&nbsp;&nbsp;&nbsp;&nbsp;&nbsp; [1.2 Function to check if found RIC is valid (if price data exists)](#1.2-Function-to-check-if-found-RIC-is-valid-(if-price-data-exists))<br>\n",
    "&nbsp;&nbsp;&nbsp;&nbsp;&nbsp;&nbsp; [1.3 Function to get option Expiration month code](#1.3-Function-to-get-option-Expiration-month-code)<br>\n",
    "[Section 2: Define functions to get option RICs for each exchange](#Section-2:-Define-functions-to-get-option-RICs-for-each-exchange)<br>\n",
    "&nbsp;&nbsp;&nbsp;&nbsp;&nbsp;&nbsp; [2.1 Function for OPRA](2.1-Function-for-OPRA)<br>\n",
    "&nbsp;&nbsp;&nbsp;&nbsp;&nbsp;&nbsp; [2.2 Function for the Stock Exchange of Hong Kong](#2.2-Function-for-the-Stock-Exchange-of-Hong-Kong)<br>\n",
    "&nbsp;&nbsp;&nbsp;&nbsp;&nbsp;&nbsp; [2.3 Function for the Osaka Stock Exchange](#2.3-Function-for-the-Osaka-Stock-Exchange)<br>\n",
    "&nbsp;&nbsp;&nbsp;&nbsp;&nbsp;&nbsp; [2.4 Function for OPRA](#2.4-Function-for-OPRA)<br>\n",
    "&nbsp;&nbsp;&nbsp;&nbsp;&nbsp;&nbsp; [2.5 Function for the Intercontinental Exchange](#2.5-Function-for-the-Intercontinental-Exchange)<br>\n",
    "[Section 3: Universal function for all above exchanges](#Section-3:-Universal-function-for-all-above-exchanges)"
   ]
  },
  {
   "cell_type": "markdown",
   "id": "497396d5-51ea-4661-aae6-3f5365aa973c",
   "metadata": {},
   "source": [
    "### Overview\n",
    "\n",
    "The current notebook includes functions to constructs option RICs on equities and indices. Section 1 defines supplementarty functions which are further called by the main RIC construction functions. In section 2, I define separate functions per supported stock exchange. Section 3, defines a universal function which takes isin, maturity, strike and option type as an input, finds all exchanges where the options on the given asset are traded, constructs RICs for them, validates and returns the constructed RICs along with the prices.\n",
    "\n",
    "The current version covers the following exchanges:\n",
    "* US OPRA - refer to RULES7, RULES2, RULES3, RULES4 in Workspace, and Guideline for strikes above 10000 in [MyRefinitiv](https://my.refinitiv.com/content/mytr/en/datanotification/DN099473.html).\n",
    "* EUREX - refer to RULES2, RULES3, RULES4 in Workspace, and general option RIC structure in [MyRefinitiv](https://my.refinitiv.com/content/mytr/en/faqs/2016/09/000195632.html). \n",
    "* Osaka Exchange - refer to RULES2, RULES3, RULES4 in Workspace, and RIC structure for Osaka exchange in [MyRefinitiv](https://my.refinitiv.com/content/mytr/en/faqs/2014/10/000189842.html).\n",
    "* Stock Exchange of Hong Kong - refer to RULES2, RULES3, RULES4 in Workspace, and RIC structure for HK exchange in [MyRefinitiv](https://my.refinitiv.com/content/mytr/en/faqs/2021/04/000198505.html).\n",
    "* Hong Kong Future Exchange - refer to RULES2, RULES3, RULES4 in Workspace, and RIC structure for HK exchange in [MyRefinitiv](https://my.refinitiv.com/content/mytr/en/faqs/2021/04/000198505.html).\n",
    "* Intercontinental Exchange (ICE) - refer to RULES2, RULES3, RULES4 in Workspace, and general option RIC structure in [MyRefinitiv](https://my.refinitiv.com/content/mytr/en/faqs/2016/09/000195632.html). \n",
    "\n",
    "Syntax for the expired options is universal accross exchanges and can be found [here](https://my.refinitiv.com/content/mytr/en/faqs/2018/09/000178972.html)."
   ]
  },
  {
   "cell_type": "markdown",
   "id": "7bf1c650-bd9c-4cd0-9a0a-0214444e09a4",
   "metadata": {},
   "source": [
    "## Install and import packages"
   ]
  },
  {
   "cell_type": "markdown",
   "id": "d8844a44-5ae5-4aea-9682-84d8f654d993",
   "metadata": {},
   "source": [
    "To start, we first install and import the necessary packages. We use the Refinitiv Data platform API to retrieve the data. To do that, we need to authorize ourselves with an app key. The code are built using Python 3.9. Other prerequisite packages are installed below:"
   ]
  },
  {
   "cell_type": "code",
   "execution_count": null,
   "id": "eade2868-4236-41d9-9a11-aba7a8cbe529",
   "metadata": {},
   "outputs": [],
   "source": [
    "!pip install refinitiv.data"
   ]
  },
  {
   "cell_type": "code",
   "execution_count": 1,
   "id": "e6ee0909-bec8-41c3-98c9-81c1aec99170",
   "metadata": {},
   "outputs": [
    {
     "data": {
      "text/plain": [
       "<refinitiv.dataplatform.core.session.desktop_session.DesktopSession at 0x1dd16706c20>"
      ]
     },
     "execution_count": 1,
     "metadata": {},
     "output_type": "execute_result"
    }
   ],
   "source": [
    "import refinitiv.dataplatform as rdp\n",
    "import pandas as pd\n",
    "from datetime import timedelta\n",
    "from datetime import datetime\n",
    "# import refinitiv.data as rd\n",
    "\n",
    "app_key = open(\"app_key.txt\",\"r\").read()\n",
    "rdp.open_desktop_session(app_key)"
   ]
  },
  {
   "cell_type": "markdown",
   "id": "44169e7c-8a79-4f23-932c-ee6a4be6e52d",
   "metadata": {},
   "source": [
    "### Section 1: Define supplementary functions"
   ]
  },
  {
   "cell_type": "markdown",
   "id": "eb945a01-244d-4815-9610-3bb37916b511",
   "metadata": {},
   "source": [
    "Functions in this section are supplementery and are further called from the functions in Section 2 and Section 3."
   ]
  },
  {
   "cell_type": "markdown",
   "id": "88666339-0f0a-4030-99a8-3519e055c240",
   "metadata": {},
   "source": [
    "#### 1.1 Function to get exchange codes where the option is traded"
   ]
  },
  {
   "cell_type": "markdown",
   "id": "8ace90bb-b02c-48ce-b71b-2fb153f8c147",
   "metadata": {},
   "source": [
    "This function allows to get the list of exchange codes where an option on the given asset is traded. The function takes asset RIC as an input and returns the list of exchanges. Then function is Section 3 constructs RICs for all supported exchanges in that list. The core of the function is the **RDP Search** function."
   ]
  },
  {
   "cell_type": "code",
   "execution_count": 2,
   "id": "d914ffe4-4c86-4d8a-a591-763c7a2963d8",
   "metadata": {},
   "outputs": [],
   "source": [
    "def get_exchange_code(asset):\n",
    "    \n",
    "    # build search query to find exchange codes where the option on the given underlying is traded  \n",
    "    response = rdp.Search.search(\n",
    "        query = asset,\n",
    "        filter = \"SearchAllCategory eq 'Options' and Periodicity eq 'Monthly' \",\n",
    "        select = ' RIC, DocumentTitle, UnderlyingQuoteRIC,Periodicity, ExchangeCode',\n",
    "        navigators = \"ExchangeCode\",\n",
    "        top = 10000\n",
    "    )\n",
    "    result = response.data.raw[\"Navigators\"][\"ExchangeCode\"]\n",
    "    \n",
    "    # store a=exchange codes in a list\n",
    "    exchange_codes = []\n",
    "    for i in range(len(result['Buckets'])):\n",
    "        code = result['Buckets'][i]['Label']\n",
    "        exchange_codes.append(code)\n",
    "    return exchange_codes"
   ]
  },
  {
   "cell_type": "code",
   "execution_count": 3,
   "id": "a48219a7-8e5d-4f7a-8807-783e5f7e0518",
   "metadata": {},
   "outputs": [
    {
     "data": {
      "text/plain": [
       "['IEU', 'EUX']"
      ]
     },
     "execution_count": 3,
     "metadata": {},
     "output_type": "execute_result"
    }
   ],
   "source": [
    "get_exchange_code('.FTSE')"
   ]
  },
  {
   "cell_type": "markdown",
   "id": "7676b053-b648-41f2-bc2c-e6f359c1e3dc",
   "metadata": {},
   "source": [
    "#### 1.2 Function to check if found RIC is valid (if price data exists)"
   ]
  },
  {
   "cell_type": "markdown",
   "id": "5a00d769-b9bf-4f19-98e8-f9fa86fd1839",
   "metadata": {},
   "source": [
    "This function allows to validate the constructed option RICs by requesting price summaries. If prices are returned we can confirm that the RIC(s) is (are) valid, otherwise we can't confirm the validation. However, the RICs with no prices can be still valid as there might not be prices because of low liquidity for certain assets with certain strike prices.\n",
    "\n",
    "Thus, the functions print all constructed possible RICs. This function takes the option ric, maturity and dictionary of identifiers as an input and returnes ric along with the prices."
   ]
  },
  {
   "cell_type": "code",
   "execution_count": 4,
   "id": "1631d248-edfa-41bb-a102-404fbb5fce73",
   "metadata": {},
   "outputs": [],
   "source": [
    "def check_ric(ric, maturity, ident):\n",
    "    exp_date = pd.Timestamp(maturity)\n",
    "    \n",
    "    # get start and end date for get_historical_price_summaries query (take current date minis 90 days period)\n",
    "    sdate = (datetime.now() - timedelta(90)).strftime('%Y-%m-%d')\n",
    "    edate = datetime.now().strftime('%Y-%m-%d')\n",
    "    \n",
    "    # check if option is matured. If yes, add expiration syntax \n",
    "    # and recalculate start and end date of the query (take expiration day minus 90 days period)\n",
    "    if pd.Timestamp(maturity) < datetime.now():\n",
    "        ric = ric + '^' + ident[str(exp_date.month)]['exp'] + str(exp_date.year)[-2:]\n",
    "        sdate = (exp_date - timedelta(90)).strftime('%Y-%m-%d')\n",
    "        edate = exp_date.strftime('%Y-%m-%d')\n",
    "    \n",
    "    # request option prices. Please note, there is no settle price for OPRA traded options\n",
    "    if ric.split('.')[1][0] == 'U':\n",
    "        prices = rdp.get_historical_price_summaries(ric,  start = sdate, end = edate, interval = rdp.Intervals.DAILY,\n",
    "                                                fields = ['BID','ASK','TRDPRC_1'])\n",
    "    else:\n",
    "        prices = rdp.get_historical_price_summaries(ric,  start = sdate, end = edate, interval = rdp.Intervals.DAILY,\n",
    "                                                fields = ['BID','ASK','TRDPRC_1', 'SETTLE'])\n",
    "    return ric, prices"
   ]
  },
  {
   "cell_type": "markdown",
   "id": "394c8324-fae6-4521-ba1b-842baec445d8",
   "metadata": {},
   "source": [
    "#### 1.3 Function to get option Expiration month code"
   ]
  },
  {
   "cell_type": "markdown",
   "id": "2c102060-b410-48b3-aa43-c4379b75a6bc",
   "metadata": {},
   "source": [
    "This function takes expiration date and option type as an input and returns expiration month code for the option which is further used to construct RICs"
   ]
  },
  {
   "cell_type": "code",
   "execution_count": 5,
   "id": "5e5b484b-59c0-43fa-a848-197e2702a046",
   "metadata": {},
   "outputs": [],
   "source": [
    "def get_exp_month(exp_date, opt_type):\n",
    "    \n",
    "    # define option expiration identifiers\n",
    "    ident = {'1': {'exp': 'A','C': 'A', 'P': 'M'}, \n",
    "           '2': {'exp': 'B', 'C': 'B', 'P': 'N'}, \n",
    "           '3': {'exp': 'C', 'C': 'C', 'P': 'O'}, \n",
    "           '4': {'exp': 'D', 'C': 'D', 'P': 'P'},\n",
    "           '5': {'exp': 'E', 'C': 'E', 'P': 'Q'},\n",
    "           '6': {'exp': 'F', 'C': 'F', 'P': 'R'},\n",
    "           '7': {'exp': 'G', 'C': 'G', 'P': 'S'}, \n",
    "           '8': {'exp': 'H', 'C': 'H', 'P': 'T'}, \n",
    "           '9': {'exp': 'I', 'C': 'I', 'P': 'U'}, \n",
    "           '10': {'exp': 'J', 'C': 'J', 'P': 'V'}, \n",
    "           '11': {'exp': 'K', 'C': 'K', 'P': 'W'}, \n",
    "           '12': {'exp': 'L', 'C': 'L', 'P': 'X'}}\n",
    "    \n",
    "    # get expiration month code for a month\n",
    "    if opt_type.upper() == 'C':\n",
    "        exp_month = ident[str(exp_date.month)]['C']\n",
    "    elif opt_type.upper() == 'P':\n",
    "        exp_month = ident[str(exp_date.month)]['P']\n",
    "        \n",
    "    return ident, exp_month"
   ]
  },
  {
   "cell_type": "markdown",
   "id": "827cf69d-4b32-4ae4-b5e3-3379bc2544c8",
   "metadata": {},
   "source": [
    "### Section 2: Define functions to get option RICs for each exchange"
   ]
  },
  {
   "cell_type": "markdown",
   "id": "1febcb85-d3f5-4bf2-b220-556269932a4c",
   "metadata": {},
   "source": [
    "In this section I define functions for option RIC construction for separate exchanges. Those functions take asset RIC, maturity, strike and opt type as an input and return validated rics along with the prices. If no price is found for constructed RICs, the functions print out possible RICs."
   ]
  },
  {
   "cell_type": "markdown",
   "id": "a6d3b74f-b95d-4f97-9e9f-c7f85c7fbf51",
   "metadata": {},
   "source": [
    "#### 2.1 Function for OPRA"
   ]
  },
  {
   "cell_type": "markdown",
   "id": "d95fec29-74bf-4491-ad1b-710eb55fb346",
   "metadata": {},
   "source": [
    "Below function returns option RICs for OPRA exchange."
   ]
  },
  {
   "cell_type": "code",
   "execution_count": 18,
   "id": "d2d02513-40ec-407a-a6d9-b27521cced4c",
   "metadata": {},
   "outputs": [],
   "source": [
    "def get_ric_opra(asset, maturity, strike, opt_type):\n",
    "    exp_date = pd.Timestamp(maturity)\n",
    "    \n",
    "    # trim underlying asset's RIC to get the required part for option RIC\n",
    "    if asset[0] == '.': # check if the asset is an index or an equity\n",
    "        asset_name = asset[1:] # get the asset name - we remove \".\" symbol for index options\n",
    "    else:\n",
    "        asset_name = asset.split('.')[0] # we need only the first part of the RICs for equities\n",
    "    \n",
    "    ident = {'1': {'exp': 'A', 'C_bigStrike': 'a','C_smallStrike': 'A', 'P_bigStrike': 'm', 'P_smallStrike': 'M'}, \n",
    "           '2': {'exp': 'B', 'C_bigStrike': 'b','C_smallStrike': 'B', 'P_bigStrike': 'n', 'P_smallStrike': 'N'}, \n",
    "           '3': {'exp': 'C', 'C_bigStrike': 'c','C_smallStrike': 'C', 'P_bigStrike': 'o', 'P_smallStrike': 'O'}, \n",
    "           '4': {'exp': 'D', 'C_bigStrike': 'd','C_smallStrike': 'D', 'P_bigStrike': 'p', 'P_smallStrike': 'P'},\n",
    "           '5': {'exp': 'E', 'C_bigStrike': 'e','C_smallStrike': 'E', 'P_bigStrike': 'q', 'P_smallStrike': 'Q'},\n",
    "           '6': {'exp': 'F', 'C_bigStrike': 'f','C_smallStrike': 'F', 'P_bigStrike': 'r', 'P_smallStrike': 'R'},\n",
    "           '7': {'exp': 'G', 'C_bigStrike': 'g','C_smallStrike': 'G', 'P_bigStrike': 's', 'P_smallStrike': 'S'}, \n",
    "           '8': {'exp': 'H', 'C_bigStrike': 'h','C_smallStrike': 'H', 'P_bigStrike': 't', 'P_smallStrike': 'T'}, \n",
    "           '9': {'exp': 'I', 'C_bigStrike': 'i','C_smallStrike': 'I', 'P_bigStrike': 'u', 'P_smallStrike': 'U'}, \n",
    "           '10': {'exp': 'J', 'C_bigStrike': 'j','C_smallStrike': 'J', 'P_bigStrike': 'v', 'P_smallStrike': 'V'}, \n",
    "           '11': {'exp': 'K', 'C_bigStrike': 'k','C_smallStrike': 'K', 'P_bigStrike': 'w', 'P_smallStrike': 'W'}, \n",
    "           '12': {'exp': 'L', 'C_bigStrike': 'l','C_smallStrike': 'L', 'P_bigStrike': 'x', 'P_smallStrike': 'X'}}\n",
    "    \n",
    "    # get expiration month code for a month\n",
    "    if opt_type.upper() == 'C':\n",
    "        if strike > 999.999:\n",
    "            exp_month = ident[str(exp_date.month)]['C_bigStrike']\n",
    "        else:\n",
    "            exp_month = ident[str(exp_date.month)]['C_smallStrike']\n",
    "            \n",
    "    # calculate the strike price and get expiration month code for a month for put options\n",
    "    elif opt_type.upper() == 'P':\n",
    "        if strike > 999.999:\n",
    "            exp_month = ident[str(exp_date.month)]['P_bigStrike'] \n",
    "        else:\n",
    "            exp_month = ident[str(exp_date.month)]['P_smallStrike']\n",
    "    \n",
    "    # get strike prrice\n",
    "    if type(strike) == float:\n",
    "        int_part = int(strike)\n",
    "        dec_part = str(str(strike).split('.')[1])\n",
    "    else:\n",
    "        int_part = int(strike)\n",
    "        dec_part = '00'\n",
    "    if len(dec_part) == 1:\n",
    "        dec_part = dec_part + '0'\n",
    "\n",
    "    if int(strike) < 10:\n",
    "        strike_ric = '00' + str(int_part) + dec_part\n",
    "    elif int_part >= 10 and int_part < 100:\n",
    "        strike_ric = '0' + str(int_part) + dec_part\n",
    "    if int_part >= 100 and int_part < 1000:\n",
    "        strike_ric = str(int_part) + dec_part\n",
    "    elif int_part >= 1000 and int_part < 10000:\n",
    "        strike_ric = str(int_part) + '0'\n",
    "    elif int_part >= 10000 and int_part < 20000:\n",
    "        strike_ric = 'A' + str(int_part)[-4:]\n",
    "    elif int_part >= 20000 and int_part < 30000:\n",
    "        strike_ric = 'B' + str(int_part)[-4:]      \n",
    "    elif int_part >= 30000 and int_part < 40000:\n",
    "        strike_ric = 'C' + str(int_part)[-4:]\n",
    "    elif int_part >= 40000 and int_part < 50000:\n",
    "        strike_ric = 'D' + str(int_part)[-4:]\n",
    "        \n",
    "    # build initial ric\n",
    "    ric = asset_name + exp_month + str(exp_date.day) + str(exp_date.year)[-2:] + strike_ric + '.U'\n",
    "    # check ric validity\n",
    "    ric, prices = check_ric(ric, maturity, ident)\n",
    "    \n",
    "    # return valid rics or append to the possible_ric list if no price is found\n",
    "    possible_rics = [] \n",
    "    if prices is not None:\n",
    "        return ric, prices\n",
    "    else:\n",
    "        possible_rics.append(ric)\n",
    "        print(f'Here is a list of possible RICs {possible_rics}, however we could not find any prices for those!')\n",
    "    return ric, prices"
   ]
  },
  {
   "cell_type": "code",
   "execution_count": 19,
   "id": "f12d5cff-e702-4ae8-a387-de21889fcaed",
   "metadata": {},
   "outputs": [],
   "source": [
    "ric, prices = get_ric_opra('AAPL.O', '2022-01-21', 180, 'C')"
   ]
  },
  {
   "cell_type": "code",
   "execution_count": 20,
   "id": "8b4d79df-4d65-4f94-847f-7d3599ef3a82",
   "metadata": {},
   "outputs": [
    {
     "data": {
      "text/plain": [
       "'AAPLA212218000.U^A22'"
      ]
     },
     "execution_count": 20,
     "metadata": {},
     "output_type": "execute_result"
    }
   ],
   "source": [
    "ric"
   ]
  },
  {
   "cell_type": "code",
   "execution_count": 21,
   "id": "d1429080-487f-4cbc-b342-dde398dcdb50",
   "metadata": {},
   "outputs": [
    {
     "data": {
      "text/html": [
       "<div>\n",
       "<style scoped>\n",
       "    .dataframe tbody tr th:only-of-type {\n",
       "        vertical-align: middle;\n",
       "    }\n",
       "\n",
       "    .dataframe tbody tr th {\n",
       "        vertical-align: top;\n",
       "    }\n",
       "\n",
       "    .dataframe thead th {\n",
       "        text-align: right;\n",
       "    }\n",
       "</style>\n",
       "<table border=\"1\" class=\"dataframe\">\n",
       "  <thead>\n",
       "    <tr style=\"text-align: right;\">\n",
       "      <th></th>\n",
       "      <th>TRDPRC_1</th>\n",
       "      <th>BID</th>\n",
       "      <th>ASK</th>\n",
       "    </tr>\n",
       "  </thead>\n",
       "  <tbody>\n",
       "    <tr>\n",
       "      <th>2021-10-22</th>\n",
       "      <td>0.54</td>\n",
       "      <td>0.51</td>\n",
       "      <td>0.54</td>\n",
       "    </tr>\n",
       "    <tr>\n",
       "      <th>2021-10-25</th>\n",
       "      <td>0.5</td>\n",
       "      <td>0.49</td>\n",
       "      <td>0.52</td>\n",
       "    </tr>\n",
       "    <tr>\n",
       "      <th>2021-10-26</th>\n",
       "      <td>0.55</td>\n",
       "      <td>0.53</td>\n",
       "      <td>0.55</td>\n",
       "    </tr>\n",
       "    <tr>\n",
       "      <th>2021-10-27</th>\n",
       "      <td>0.6</td>\n",
       "      <td>0.59</td>\n",
       "      <td>0.62</td>\n",
       "    </tr>\n",
       "    <tr>\n",
       "      <th>2021-10-28</th>\n",
       "      <td>0.82</td>\n",
       "      <td>0.75</td>\n",
       "      <td>0.84</td>\n",
       "    </tr>\n",
       "  </tbody>\n",
       "</table>\n",
       "</div>"
      ],
      "text/plain": [
       "            TRDPRC_1   BID   ASK\n",
       "2021-10-22      0.54  0.51  0.54\n",
       "2021-10-25       0.5  0.49  0.52\n",
       "2021-10-26      0.55  0.53  0.55\n",
       "2021-10-27       0.6  0.59  0.62\n",
       "2021-10-28      0.82  0.75  0.84"
      ]
     },
     "execution_count": 21,
     "metadata": {},
     "output_type": "execute_result"
    }
   ],
   "source": [
    "prices.head()"
   ]
  },
  {
   "cell_type": "markdown",
   "id": "67083d96-c1c7-4fdf-b378-4a4877e473f3",
   "metadata": {},
   "source": [
    "#### 2.2 Function for the Stock Exchange of Hong Kong"
   ]
  },
  {
   "cell_type": "markdown",
   "id": "088e1c63-166a-4a5c-8f6c-4d3bdb3bfc59",
   "metadata": {},
   "source": [
    "Below function returns option RICs for Hong Kong exchange."
   ]
  },
  {
   "cell_type": "code",
   "execution_count": 22,
   "id": "7d3c936e-bf58-4e80-acc4-eb5d3fd1b40c",
   "metadata": {},
   "outputs": [],
   "source": [
    "def get_ric_hk(asset, maturity, strike, opt_type):\n",
    "    exp_date = pd.Timestamp(maturity)\n",
    "    \n",
    "    # get asset name and strike price for the asset\n",
    "    if asset[0] == '.': \n",
    "        asset_name = asset[1:] \n",
    "        strike_ric = str(int(strike))\n",
    "    else:\n",
    "        asset_name = asset.split('.')[0]\n",
    "        strike_ric = str(int(strike * 100))\n",
    "     \n",
    "    # get expiration month codes\n",
    "    ident, exp_month = get_exp_month(exp_date, opt_type)\n",
    "\n",
    "    possible_rics = []\n",
    "    # get rics for options on indexes. Return if valid add to the possible_rics list if no price is found\n",
    "    if asset[0] == '.':\n",
    "        ric = asset_name + strike_ric + exp_month + str(exp_date.year)[-1:] + '.HF'\n",
    "        ric, prices = check_ric(ric, maturity, ident)\n",
    "        if prices is not None:\n",
    "            return ric, prices\n",
    "        else:\n",
    "            possible_rics.append(ric)\n",
    "    else:\n",
    "        # get rics for options on equities. Return if valid add to the possible_rics list if no price is found\n",
    "        # there could be several generations of options depending on the number of price adjustments due to a corporate event\n",
    "        # here we use 4 adjustment opportunities.\n",
    "        for i in range(4): \n",
    "            ric = asset_name + strike_ric + str(i)+ exp_month + str(exp_date.year)[-1:] + '.HK'\n",
    "            ric, prices = check_ric(ric, maturity, ident)\n",
    "            if prices is not None:\n",
    "                 return ric, prices # we return ric and prices for the first found ric (we don't check for other adjusted rics)\n",
    "            else:\n",
    "                possible_rics.append(ric)\n",
    "    print(f'Here is a list of possible RICs {possible_rics}, however we could not find any prices for those!')\n",
    "    return  ric, prices"
   ]
  },
  {
   "cell_type": "code",
   "execution_count": 23,
   "id": "7a135035-2045-4f61-85ca-d61f130a9e8a",
   "metadata": {},
   "outputs": [],
   "source": [
    "ric, prices = get_ric_hk('.HSI', '2022-03-30', 18400, 'C')"
   ]
  },
  {
   "cell_type": "code",
   "execution_count": 24,
   "id": "32bfe757-5a4e-4b37-9e39-becbf47d7ba4",
   "metadata": {},
   "outputs": [
    {
     "data": {
      "text/plain": [
       "'HSI18400C2.HF^C22'"
      ]
     },
     "execution_count": 24,
     "metadata": {},
     "output_type": "execute_result"
    }
   ],
   "source": [
    "ric"
   ]
  },
  {
   "cell_type": "code",
   "execution_count": 25,
   "id": "bdbf01c9-1b50-4b0f-ad9b-365f3cb8fa15",
   "metadata": {},
   "outputs": [
    {
     "data": {
      "text/html": [
       "<div>\n",
       "<style scoped>\n",
       "    .dataframe tbody tr th:only-of-type {\n",
       "        vertical-align: middle;\n",
       "    }\n",
       "\n",
       "    .dataframe tbody tr th {\n",
       "        vertical-align: top;\n",
       "    }\n",
       "\n",
       "    .dataframe thead th {\n",
       "        text-align: right;\n",
       "    }\n",
       "</style>\n",
       "<table border=\"1\" class=\"dataframe\">\n",
       "  <thead>\n",
       "    <tr style=\"text-align: right;\">\n",
       "      <th></th>\n",
       "      <th>TRDPRC_1</th>\n",
       "      <th>BID</th>\n",
       "      <th>ASK</th>\n",
       "      <th>SETTLE</th>\n",
       "    </tr>\n",
       "  </thead>\n",
       "  <tbody>\n",
       "    <tr>\n",
       "      <th>2021-12-29</th>\n",
       "      <td>&lt;NA&gt;</td>\n",
       "      <td>&lt;NA&gt;</td>\n",
       "      <td>&lt;NA&gt;</td>\n",
       "      <td>4651</td>\n",
       "    </tr>\n",
       "    <tr>\n",
       "      <th>2021-12-30</th>\n",
       "      <td>&lt;NA&gt;</td>\n",
       "      <td>&lt;NA&gt;</td>\n",
       "      <td>&lt;NA&gt;</td>\n",
       "      <td>4732</td>\n",
       "    </tr>\n",
       "    <tr>\n",
       "      <th>2021-12-31</th>\n",
       "      <td>&lt;NA&gt;</td>\n",
       "      <td>&lt;NA&gt;</td>\n",
       "      <td>&lt;NA&gt;</td>\n",
       "      <td>5016</td>\n",
       "    </tr>\n",
       "    <tr>\n",
       "      <th>2022-01-03</th>\n",
       "      <td>&lt;NA&gt;</td>\n",
       "      <td>&lt;NA&gt;</td>\n",
       "      <td>&lt;NA&gt;</td>\n",
       "      <td>4826</td>\n",
       "    </tr>\n",
       "    <tr>\n",
       "      <th>2022-01-04</th>\n",
       "      <td>&lt;NA&gt;</td>\n",
       "      <td>&lt;NA&gt;</td>\n",
       "      <td>&lt;NA&gt;</td>\n",
       "      <td>4862</td>\n",
       "    </tr>\n",
       "  </tbody>\n",
       "</table>\n",
       "</div>"
      ],
      "text/plain": [
       "            TRDPRC_1   BID   ASK  SETTLE\n",
       "2021-12-29      <NA>  <NA>  <NA>    4651\n",
       "2021-12-30      <NA>  <NA>  <NA>    4732\n",
       "2021-12-31      <NA>  <NA>  <NA>    5016\n",
       "2022-01-03      <NA>  <NA>  <NA>    4826\n",
       "2022-01-04      <NA>  <NA>  <NA>    4862"
      ]
     },
     "execution_count": 25,
     "metadata": {},
     "output_type": "execute_result"
    }
   ],
   "source": [
    "prices.head()"
   ]
  },
  {
   "cell_type": "markdown",
   "id": "1dad48ca-0062-49fb-92d7-c99fdb9c0484",
   "metadata": {},
   "source": [
    "#### 2.3 Function for the Osaka Stock Exchange"
   ]
  },
  {
   "cell_type": "markdown",
   "id": "331fe493-d156-4772-aae0-8ff38dafcb2e",
   "metadata": {},
   "source": [
    "Below function returns option RICs for Osaka exchange."
   ]
  },
  {
   "cell_type": "code",
   "execution_count": 26,
   "id": "d580522f-411d-48aa-8451-ba4d33ccdea8",
   "metadata": {},
   "outputs": [],
   "source": [
    "def get_ric_ose(asset, maturity, strike, opt_type):\n",
    "    exp_date = pd.Timestamp(maturity)\n",
    "\n",
    "    if asset[0] == '.':\n",
    "        asset_name = asset[1:]\n",
    "    else:\n",
    "        asset_name = asset.split('.')[0]\n",
    "    strike_ric = str(strike)[:3]\n",
    "        \n",
    "    ident, exp_month = get_exp_month(exp_date, opt_type)\n",
    "    \n",
    "    possible_rics = []\n",
    "    if asset[0] == '.':\n",
    "        # Option Root codes for indexes are different from the RIC, so we rename where necessery\n",
    "        if asset_name == 'N225':\n",
    "            asset_name = 'JNI'\n",
    "        elif asset_name == 'TOPX':\n",
    "            asset_name = 'JTI'\n",
    "        # we consider also J-NET (Off-Auction(with \"L\")) and High  frequency (with 'R') option structures \n",
    "        for jnet in ['', 'L', 'R']:\n",
    "            ric = asset_name + jnet + strike_ric + exp_month + str(exp_date.year)[-1:] + '.OS'\n",
    "            ric, prices = check_ric(ric, maturity, ident)\n",
    "            if prices is not None:\n",
    "                return ric, prices\n",
    "            else:\n",
    "                possible_rics.append(ric)\n",
    "    else:\n",
    "        generations = ['Y', 'Z', 'A', 'B', 'C'] # these are generation codes similar to one from HK \n",
    "        for jnet in ['', 'L', 'R']:\n",
    "            for gen in generations:\n",
    "                ric = asset_name + jnet + gen + strike_ric + exp_month + str(exp_date.year)[-1:] + '.OS'\n",
    "                ric, prices = check_ric(ric, maturity, ident)\n",
    "                if prices is not None:\n",
    "                    return ric, prices\n",
    "                else:\n",
    "                    possible_rics.append(ric)\n",
    "    print(f'Here is a list of possible RICs {possible_rics}, however we could not find any prices for those!')\n",
    "    return  ric, prices"
   ]
  },
  {
   "cell_type": "code",
   "execution_count": 27,
   "id": "ab24a3b4-6134-4a01-9713-f8366a9694d6",
   "metadata": {},
   "outputs": [],
   "source": [
    "ric, prices = get_ric_ose('7974.T', '2022-03-30', 50000, 'P')"
   ]
  },
  {
   "cell_type": "code",
   "execution_count": 28,
   "id": "0fe4b327-64cc-47aa-a754-d3fe33698c9b",
   "metadata": {},
   "outputs": [
    {
     "data": {
      "text/plain": [
       "'7974Y500O2.OS^C22'"
      ]
     },
     "execution_count": 28,
     "metadata": {},
     "output_type": "execute_result"
    }
   ],
   "source": [
    "ric"
   ]
  },
  {
   "cell_type": "code",
   "execution_count": 29,
   "id": "911c0b4c-bd64-4817-8b58-fd5a0dde6092",
   "metadata": {},
   "outputs": [
    {
     "data": {
      "text/html": [
       "<div>\n",
       "<style scoped>\n",
       "    .dataframe tbody tr th:only-of-type {\n",
       "        vertical-align: middle;\n",
       "    }\n",
       "\n",
       "    .dataframe tbody tr th {\n",
       "        vertical-align: top;\n",
       "    }\n",
       "\n",
       "    .dataframe thead th {\n",
       "        text-align: right;\n",
       "    }\n",
       "</style>\n",
       "<table border=\"1\" class=\"dataframe\">\n",
       "  <thead>\n",
       "    <tr style=\"text-align: right;\">\n",
       "      <th></th>\n",
       "      <th>TRDPRC_1</th>\n",
       "      <th>BID</th>\n",
       "      <th>ASK</th>\n",
       "      <th>SETTLE</th>\n",
       "    </tr>\n",
       "  </thead>\n",
       "  <tbody>\n",
       "    <tr>\n",
       "      <th>2021-12-29</th>\n",
       "      <td>None</td>\n",
       "      <td>None</td>\n",
       "      <td>None</td>\n",
       "      <td>1609.0</td>\n",
       "    </tr>\n",
       "    <tr>\n",
       "      <th>2021-12-30</th>\n",
       "      <td>None</td>\n",
       "      <td>None</td>\n",
       "      <td>None</td>\n",
       "      <td>1777.0</td>\n",
       "    </tr>\n",
       "    <tr>\n",
       "      <th>2022-01-04</th>\n",
       "      <td>None</td>\n",
       "      <td>None</td>\n",
       "      <td>None</td>\n",
       "      <td>1516.0</td>\n",
       "    </tr>\n",
       "    <tr>\n",
       "      <th>2022-01-05</th>\n",
       "      <td>None</td>\n",
       "      <td>None</td>\n",
       "      <td>None</td>\n",
       "      <td>1647.0</td>\n",
       "    </tr>\n",
       "    <tr>\n",
       "      <th>2022-01-06</th>\n",
       "      <td>None</td>\n",
       "      <td>None</td>\n",
       "      <td>None</td>\n",
       "      <td>1848.0</td>\n",
       "    </tr>\n",
       "  </tbody>\n",
       "</table>\n",
       "</div>"
      ],
      "text/plain": [
       "           TRDPRC_1   BID   ASK  SETTLE\n",
       "2021-12-29     None  None  None  1609.0\n",
       "2021-12-30     None  None  None  1777.0\n",
       "2022-01-04     None  None  None  1516.0\n",
       "2022-01-05     None  None  None  1647.0\n",
       "2022-01-06     None  None  None  1848.0"
      ]
     },
     "execution_count": 29,
     "metadata": {},
     "output_type": "execute_result"
    }
   ],
   "source": [
    "prices.head()"
   ]
  },
  {
   "cell_type": "markdown",
   "id": "e4fd69a6-f895-43af-a542-522be133cd36",
   "metadata": {},
   "source": [
    "#### 2.4 Function for the EUREX"
   ]
  },
  {
   "cell_type": "markdown",
   "id": "57cbbf47-2fe1-4e54-af20-5491ddca36d1",
   "metadata": {},
   "source": [
    "Below function returns option RICs for EUREX exchange."
   ]
  },
  {
   "cell_type": "code",
   "execution_count": 30,
   "id": "ef242105-ea52-4aed-8bfe-000eb214375b",
   "metadata": {},
   "outputs": [],
   "source": [
    "def get_ric_eurex(asset, maturity, strike, opt_type):\n",
    "    exp_date = pd.Timestamp(maturity)\n",
    "\n",
    "    if asset[0] == '.': \n",
    "        asset_name = asset[1:]\n",
    "        if asset_name == 'FTSE':\n",
    "            asset_name = 'OTUK'\n",
    "        elif asset_name == 'SSMI':\n",
    "            asset_name = 'OSMI'\n",
    "        elif asset_name == 'GDAXI':\n",
    "            asset_name = 'GDAX'\n",
    "        elif asset_name == 'ATX':\n",
    "            asset_name = 'FATXA'\n",
    "        elif asset_name == 'STOXX50E':\n",
    "            asset_name = 'STXE'           \n",
    "    else:\n",
    "        asset_name = asset.split('.')[0]\n",
    "        \n",
    "    ident, exp_month = get_exp_month(exp_date, opt_type)\n",
    "        \n",
    "    if type(strike) == float:\n",
    "        int_part = int(strike)\n",
    "        dec_part = str(str(strike).split('.')[1])[0]\n",
    "    else:\n",
    "        int_part = int(strike)\n",
    "        dec_part = '0'      \n",
    "        \n",
    "    if len(str(int(strike))) == 1:\n",
    "        strike_ric = '0' + str(int_part) + dec_part\n",
    "    else:\n",
    "        strike_ric = str(int_part) + dec_part\n",
    "    \n",
    "    possible_rics = []\n",
    "    generations = ['', 'a', 'b', 'c', 'd']\n",
    "    for gen in generations:\n",
    "        ric = asset_name + strike_ric  + gen + exp_month + str(exp_date.year)[-1:] + '.EX'\n",
    "        ric, prices = check_ric(ric, maturity, ident)\n",
    "        if prices is not None:\n",
    "            return ric, prices\n",
    "        else:\n",
    "            possible_rics.append(ric)\n",
    "    print(f'Here is a list of possible RICs {possible_rics}, however we could not find any prices for those!')\n",
    "    return  ric, prices"
   ]
  },
  {
   "cell_type": "code",
   "execution_count": 31,
   "id": "eb8ca6d7-999b-4277-814b-e43f26543a0c",
   "metadata": {},
   "outputs": [],
   "source": [
    "ric, prices = get_ric_eurex('.STOXX50E', '2022-03-30', 4200, 'P')"
   ]
  },
  {
   "cell_type": "code",
   "execution_count": 32,
   "id": "36318d6a-6511-4734-9fb9-4d5c253b8a28",
   "metadata": {},
   "outputs": [
    {
     "data": {
      "text/plain": [
       "'STXE42000O2.EX^C22'"
      ]
     },
     "execution_count": 32,
     "metadata": {},
     "output_type": "execute_result"
    }
   ],
   "source": [
    "ric"
   ]
  },
  {
   "cell_type": "code",
   "execution_count": 33,
   "id": "5869fbb9-0d3e-46b4-aecb-8154bf9f4074",
   "metadata": {},
   "outputs": [
    {
     "data": {
      "text/html": [
       "<div>\n",
       "<style scoped>\n",
       "    .dataframe tbody tr th:only-of-type {\n",
       "        vertical-align: middle;\n",
       "    }\n",
       "\n",
       "    .dataframe tbody tr th {\n",
       "        vertical-align: top;\n",
       "    }\n",
       "\n",
       "    .dataframe thead th {\n",
       "        text-align: right;\n",
       "    }\n",
       "</style>\n",
       "<table border=\"1\" class=\"dataframe\">\n",
       "  <thead>\n",
       "    <tr style=\"text-align: right;\">\n",
       "      <th></th>\n",
       "      <th>TRDPRC_1</th>\n",
       "      <th>BID</th>\n",
       "      <th>ASK</th>\n",
       "      <th>SETTLE</th>\n",
       "    </tr>\n",
       "  </thead>\n",
       "  <tbody>\n",
       "    <tr>\n",
       "      <th>2021-12-29</th>\n",
       "      <td>112.5</td>\n",
       "      <td>110.8</td>\n",
       "      <td>114.4</td>\n",
       "      <td>112.9</td>\n",
       "    </tr>\n",
       "    <tr>\n",
       "      <th>2021-12-30</th>\n",
       "      <td>100.7</td>\n",
       "      <td>101.5</td>\n",
       "      <td>104.1</td>\n",
       "      <td>102.5</td>\n",
       "    </tr>\n",
       "    <tr>\n",
       "      <th>2022-01-03</th>\n",
       "      <td>91.1</td>\n",
       "      <td>87.3</td>\n",
       "      <td>88.8</td>\n",
       "      <td>88</td>\n",
       "    </tr>\n",
       "    <tr>\n",
       "      <th>2022-01-04</th>\n",
       "      <td>72.8</td>\n",
       "      <td>79.7</td>\n",
       "      <td>82.8</td>\n",
       "      <td>81.2</td>\n",
       "    </tr>\n",
       "    <tr>\n",
       "      <th>2022-01-05</th>\n",
       "      <td>69.4</td>\n",
       "      <td>68.4</td>\n",
       "      <td>71.5</td>\n",
       "      <td>70.3</td>\n",
       "    </tr>\n",
       "  </tbody>\n",
       "</table>\n",
       "</div>"
      ],
      "text/plain": [
       "           TRDPRC_1    BID    ASK SETTLE\n",
       "2021-12-29    112.5  110.8  114.4  112.9\n",
       "2021-12-30    100.7  101.5  104.1  102.5\n",
       "2022-01-03     91.1   87.3   88.8     88\n",
       "2022-01-04     72.8   79.7   82.8   81.2\n",
       "2022-01-05     69.4   68.4   71.5   70.3"
      ]
     },
     "execution_count": 33,
     "metadata": {},
     "output_type": "execute_result"
    }
   ],
   "source": [
    "prices.head()"
   ]
  },
  {
   "cell_type": "markdown",
   "id": "99e558ab-dbaf-4f9f-bdb0-43198e0a26f5",
   "metadata": {},
   "source": [
    "#### 2.5 Function for the Intercontinental Exchange"
   ]
  },
  {
   "cell_type": "markdown",
   "id": "1f7e0b3d-6ce5-4548-8810-435c6aa95592",
   "metadata": {},
   "source": [
    "Below function returns option RICs for Intercontinental Exchange exchange."
   ]
  },
  {
   "cell_type": "code",
   "execution_count": 34,
   "id": "8a265c25-8201-4ff2-8e51-04a158a10f77",
   "metadata": {},
   "outputs": [],
   "source": [
    "def get_ric_ieu(asset, maturity, strike, opt_type):\n",
    "    exp_date = pd.Timestamp(maturity)\n",
    "    \n",
    "    if asset[0] == '.':\n",
    "        asset_name = asset[1:]\n",
    "        if asset_name == 'FTSE':\n",
    "            asset_name = 'LFE'       \n",
    "    else:\n",
    "        asset_name = asset.split('.')[0] \n",
    "        \n",
    "    ident, exp_month = get_exp_month(exp_date, opt_type)\n",
    "\n",
    "    if len(str(int(strike))) == 2:\n",
    "        strike_ric = '0' + str(int(strike))\n",
    "    else:\n",
    "        strike_ric = str(int(strike))\n",
    "        \n",
    "    if type(strike) == float and len(str(int(strike))) == 1:\n",
    "        int_part = int(strike)\n",
    "        dec_part = str(str(strike).split('.')[1])[0]        \n",
    "        strike_ric = '0' + str(int_part) + dec_part\n",
    "    \n",
    "    possible_rics = []\n",
    "    generations = ['', 'a', 'b', 'c', 'd']\n",
    "    for gen in generations:\n",
    "        ric = asset_name + strike_ric  + gen + exp_month + str(exp_date.year)[-1:] + '.L'\n",
    "        ric, prices = check_ric(ric, maturity, ident)\n",
    "        if prices is not None:\n",
    "            return ric, prices\n",
    "        else:\n",
    "            possible_rics.append(ric)\n",
    "    print(f'Here is a list of possible RICs {possible_rics}, however we could not find any prices for those!')\n",
    "    return  ric, prices"
   ]
  },
  {
   "cell_type": "code",
   "execution_count": 35,
   "id": "d1b442fc-3006-482c-b896-cf713d452d7c",
   "metadata": {},
   "outputs": [],
   "source": [
    "ric, prices = get_ric_ieu('.FTSE', '2022-06-30', 7000, 'C')"
   ]
  },
  {
   "cell_type": "code",
   "execution_count": 36,
   "id": "71dde229-2b4d-4d68-a70f-3a06a64dc048",
   "metadata": {},
   "outputs": [
    {
     "data": {
      "text/plain": [
       "'LFE7000F2.L'"
      ]
     },
     "execution_count": 36,
     "metadata": {},
     "output_type": "execute_result"
    }
   ],
   "source": [
    "ric"
   ]
  },
  {
   "cell_type": "code",
   "execution_count": 37,
   "id": "0596b850-c36a-49ea-91ce-878ad98aa29e",
   "metadata": {},
   "outputs": [
    {
     "data": {
      "text/html": [
       "<div>\n",
       "<style scoped>\n",
       "    .dataframe tbody tr th:only-of-type {\n",
       "        vertical-align: middle;\n",
       "    }\n",
       "\n",
       "    .dataframe tbody tr th {\n",
       "        vertical-align: top;\n",
       "    }\n",
       "\n",
       "    .dataframe thead th {\n",
       "        text-align: right;\n",
       "    }\n",
       "</style>\n",
       "<table border=\"1\" class=\"dataframe\">\n",
       "  <thead>\n",
       "    <tr style=\"text-align: right;\">\n",
       "      <th></th>\n",
       "      <th>TRDPRC_1</th>\n",
       "      <th>BID</th>\n",
       "      <th>ASK</th>\n",
       "      <th>SETTLE</th>\n",
       "    </tr>\n",
       "  </thead>\n",
       "  <tbody>\n",
       "    <tr>\n",
       "      <th>2022-01-19</th>\n",
       "      <td>&lt;NA&gt;</td>\n",
       "      <td>629.5</td>\n",
       "      <td>654.0</td>\n",
       "      <td>630.5</td>\n",
       "    </tr>\n",
       "    <tr>\n",
       "      <th>2022-01-20</th>\n",
       "      <td>&lt;NA&gt;</td>\n",
       "      <td>611.0</td>\n",
       "      <td>637.5</td>\n",
       "      <td>619.0</td>\n",
       "    </tr>\n",
       "    <tr>\n",
       "      <th>2022-01-21</th>\n",
       "      <td>&lt;NA&gt;</td>\n",
       "      <td>543.0</td>\n",
       "      <td>577.0</td>\n",
       "      <td>564.5</td>\n",
       "    </tr>\n",
       "    <tr>\n",
       "      <th>2022-01-24</th>\n",
       "      <td>&lt;NA&gt;</td>\n",
       "      <td>410.0</td>\n",
       "      <td>470.5</td>\n",
       "      <td>472.0</td>\n",
       "    </tr>\n",
       "    <tr>\n",
       "      <th>2022-01-25</th>\n",
       "      <td>&lt;NA&gt;</td>\n",
       "      <td>492.5</td>\n",
       "      <td>530.0</td>\n",
       "      <td>515.0</td>\n",
       "    </tr>\n",
       "  </tbody>\n",
       "</table>\n",
       "</div>"
      ],
      "text/plain": [
       "            TRDPRC_1    BID    ASK  SETTLE\n",
       "2022-01-19      <NA>  629.5  654.0   630.5\n",
       "2022-01-20      <NA>  611.0  637.5   619.0\n",
       "2022-01-21      <NA>  543.0  577.0   564.5\n",
       "2022-01-24      <NA>  410.0  470.5   472.0\n",
       "2022-01-25      <NA>  492.5  530.0   515.0"
      ]
     },
     "execution_count": 37,
     "metadata": {},
     "output_type": "execute_result"
    }
   ],
   "source": [
    "prices.head()"
   ]
  },
  {
   "cell_type": "markdown",
   "id": "d67ba013-3910-4d96-a6e3-a200124e17af",
   "metadata": {},
   "source": [
    "### Section 3: Universal function for all above exchanges"
   ]
  },
  {
   "cell_type": "markdown",
   "id": "804da450-86b3-4c1a-a110-6f99bde288fb",
   "metadata": {},
   "source": [
    "In this section I built a universal function which takes isin, maturity, strike and option type as an input, finds all exchanges where the options on given asset are traded, constructs RICs for them, validates and returns the constructed RICs along with the prices. Here again, If no price is found for constructed RICs, the functions print out possible RICs."
   ]
  },
  {
   "cell_type": "code",
   "execution_count": 38,
   "id": "d641b025-e3e8-4f75-82ac-85310d31852f",
   "metadata": {},
   "outputs": [],
   "source": [
    "def get_optionRic(isin, maturity, strike, opt_type):\n",
    "    \n",
    "    # define covered exchanges along with functions to get RICs from\n",
    "    exchanges = {'OPQ': get_ric_opra,\n",
    "           'IEU': get_ric_ieu,\n",
    "           'EUX': get_ric_eurex,\n",
    "           'HKG': get_ric_hk,\n",
    "           'HFE': get_ric_hk,\n",
    "           'OSA': get_ric_ose}\n",
    "    \n",
    "    # convert ISIN to RIC\n",
    "    df = rdp.convert_symbols( isin, from_symbol_type = \"ISIN\" , to_symbol_types = \"RIC\")\n",
    "    ricUnderlying = df['RIC'][0]\n",
    "    \n",
    "    # get exchanges codes where the option on the given asset is traded\n",
    "    exchnage_codes = get_exchange_code(ricUnderlying)\n",
    "    \n",
    "    # get the list of (from all available and covered exchanges) valid rics and their prices\n",
    "    option_rics = [] \n",
    "    priceslist = []\n",
    "    for exch in exchnage_codes:\n",
    "        if exch in exchanges.keys():\n",
    "            ric, prices = exchanges[exch](ricUnderlying, maturity, strike, opt_type)\n",
    "            if prices is not None:\n",
    "                option_rics.append(ric)\n",
    "                priceslist.append(prices)\n",
    "                print(f'Option RIC for {exch} exchange is successfully constructed')     \n",
    "        else:\n",
    "            print(f'The {exch} exchange is not supported yet')\n",
    "    return option_rics, priceslist"
   ]
  },
  {
   "cell_type": "code",
   "execution_count": 39,
   "id": "e0dec70b-dd33-4b47-8f83-71f2b33939ec",
   "metadata": {},
   "outputs": [
    {
     "name": "stdout",
     "output_type": "stream",
     "text": [
      "Option RIC for IEU exchange is successfully constructed\n",
      "Option RIC for EUX exchange is successfully constructed\n"
     ]
    }
   ],
   "source": [
    "# option_rics, priceslist = get_optionRic('CH0012221716', '2022-03-30', 34, 'C')\n",
    "# option_rics, priceslist = get_optionRic('DE0008404005', '2022-03-18', 220, 'C')\n",
    "# option_rics, priceslist = get_optionRic('ES0113211835', '2022-03-18', 4.7, 'C')\n",
    "# option_rics, priceslist = get_optionRic('FR0000120073', '2022-03-18', 150, 'C')\n",
    "# option_rics, priceslist = get_optionRic('GB0031348658', '2022-03-18', 210, 'P')\n",
    "option_rics, priceslist = get_optionRic('GB0009895292', '2022-03-18', 9000, 'P')\n",
    "# option_rics, priceslist = get_optionRic('GB00BH4HKS39', '2022-03-18', 100, 'P')\n",
    "# option_rics, priceslist = get_optionRic('FR0010220475', '2022-06-18', 36, 'P')\n",
    "# option_rics, priceslist = get_optionRic('FR0000131104', '2022-03-18', 70, 'P')\n",
    "# option_rics, priceslist = get_optionRic('IT0003132476', '2022-06-16', 13, 'C')\n",
    "# option_rics, priceslist = get_optionRic('NL0010273215', '2022-02-18', 640, 'P')\n",
    "# option_rics, priceslist = get_optionRic('HK0000004322', '2022-03-30', 18400, 'C')\n",
    "# option_rics, priceslist = get_optionRic('HK1093012172', '2022-03-30', 10, 'C')\n",
    "# option_rics, priceslist = get_optionRic('KYG875721634', '2022-04-28', 480, 'C')\n",
    "# option_rics, priceslist = get_optionRic('JP9010100007', '2022-06-10', 1900, 'C')\n",
    "# option_rics, priceslist = get_optionRic('JP3788600009', '2022-06-10', 6500, 'C')\n",
    "# option_rics, priceslist = get_optionRic('GB0001383545', '2022-03-18', 7650, 'C')\n",
    "# option_rics, priceslist = get_optionRic('EU0009658145', '2022-03-18', 4200, 'C')\n",
    "# option_rics, priceslist = get_optionRic('JP9010C00002', '2022-01-17', 25875, 'C')\n",
    "# option_rics, priceslist = get_optionRic('US90184L1026', '2022-01-21', 40, 'C')\n",
    "# option_rics, priceslist = get_optionRic('US78378X1072', '2022-02-18', 5000, 'C')"
   ]
  },
  {
   "cell_type": "code",
   "execution_count": 40,
   "id": "5041902a-ac22-417b-ac80-dec71dc423c7",
   "metadata": {},
   "outputs": [
    {
     "data": {
      "text/plain": [
       "['AZN9000O2.L^C22', 'AZN90000O2.EX^C22']"
      ]
     },
     "execution_count": 40,
     "metadata": {},
     "output_type": "execute_result"
    }
   ],
   "source": [
    "option_rics"
   ]
  },
  {
   "cell_type": "code",
   "execution_count": 41,
   "id": "5a94cf1b-a772-46a1-bf87-01bbfea61b12",
   "metadata": {},
   "outputs": [
    {
     "data": {
      "text/html": [
       "<div>\n",
       "<style scoped>\n",
       "    .dataframe tbody tr th:only-of-type {\n",
       "        vertical-align: middle;\n",
       "    }\n",
       "\n",
       "    .dataframe tbody tr th {\n",
       "        vertical-align: top;\n",
       "    }\n",
       "\n",
       "    .dataframe thead th {\n",
       "        text-align: right;\n",
       "    }\n",
       "</style>\n",
       "<table border=\"1\" class=\"dataframe\">\n",
       "  <thead>\n",
       "    <tr style=\"text-align: right;\">\n",
       "      <th></th>\n",
       "      <th>TRDPRC_1</th>\n",
       "      <th>BID</th>\n",
       "      <th>ASK</th>\n",
       "      <th>SETTLE</th>\n",
       "    </tr>\n",
       "  </thead>\n",
       "  <tbody>\n",
       "    <tr>\n",
       "      <th>2021-12-17</th>\n",
       "      <td>741</td>\n",
       "      <td>705.5</td>\n",
       "      <td>816.0</td>\n",
       "      <td>784.0</td>\n",
       "    </tr>\n",
       "    <tr>\n",
       "      <th>2021-12-20</th>\n",
       "      <td>&lt;NA&gt;</td>\n",
       "      <td>776.0</td>\n",
       "      <td>796.0</td>\n",
       "      <td>802.5</td>\n",
       "    </tr>\n",
       "    <tr>\n",
       "      <th>2021-12-21</th>\n",
       "      <td>&lt;NA&gt;</td>\n",
       "      <td>697.5</td>\n",
       "      <td>717.0</td>\n",
       "      <td>706.0</td>\n",
       "    </tr>\n",
       "    <tr>\n",
       "      <th>2021-12-22</th>\n",
       "      <td>&lt;NA&gt;</td>\n",
       "      <td>683.5</td>\n",
       "      <td>703.5</td>\n",
       "      <td>692.0</td>\n",
       "    </tr>\n",
       "    <tr>\n",
       "      <th>2021-12-23</th>\n",
       "      <td>&lt;NA&gt;</td>\n",
       "      <td>669.0</td>\n",
       "      <td>687.0</td>\n",
       "      <td>694.0</td>\n",
       "    </tr>\n",
       "    <tr>\n",
       "      <th>...</th>\n",
       "      <td>...</td>\n",
       "      <td>...</td>\n",
       "      <td>...</td>\n",
       "      <td>...</td>\n",
       "    </tr>\n",
       "    <tr>\n",
       "      <th>2022-03-11</th>\n",
       "      <td>&lt;NA&gt;</td>\n",
       "      <td>64.5</td>\n",
       "      <td>86.5</td>\n",
       "      <td>82.0</td>\n",
       "    </tr>\n",
       "    <tr>\n",
       "      <th>2022-03-14</th>\n",
       "      <td>&lt;NA&gt;</td>\n",
       "      <td>29.5</td>\n",
       "      <td>44.5</td>\n",
       "      <td>35.0</td>\n",
       "    </tr>\n",
       "    <tr>\n",
       "      <th>2022-03-15</th>\n",
       "      <td>36</td>\n",
       "      <td>22.0</td>\n",
       "      <td>37.0</td>\n",
       "      <td>21.5</td>\n",
       "    </tr>\n",
       "    <tr>\n",
       "      <th>2022-03-16</th>\n",
       "      <td>&lt;NA&gt;</td>\n",
       "      <td>5.0</td>\n",
       "      <td>12.5</td>\n",
       "      <td>7.5</td>\n",
       "    </tr>\n",
       "    <tr>\n",
       "      <th>2022-03-17</th>\n",
       "      <td>&lt;NA&gt;</td>\n",
       "      <td>&lt;NA&gt;</td>\n",
       "      <td>4.0</td>\n",
       "      <td>0.0</td>\n",
       "    </tr>\n",
       "  </tbody>\n",
       "</table>\n",
       "<p>63 rows × 4 columns</p>\n",
       "</div>"
      ],
      "text/plain": [
       "            TRDPRC_1    BID    ASK  SETTLE\n",
       "2021-12-17       741  705.5  816.0   784.0\n",
       "2021-12-20      <NA>  776.0  796.0   802.5\n",
       "2021-12-21      <NA>  697.5  717.0   706.0\n",
       "2021-12-22      <NA>  683.5  703.5   692.0\n",
       "2021-12-23      <NA>  669.0  687.0   694.0\n",
       "...              ...    ...    ...     ...\n",
       "2022-03-11      <NA>   64.5   86.5    82.0\n",
       "2022-03-14      <NA>   29.5   44.5    35.0\n",
       "2022-03-15        36   22.0   37.0    21.5\n",
       "2022-03-16      <NA>    5.0   12.5     7.5\n",
       "2022-03-17      <NA>   <NA>    4.0     0.0\n",
       "\n",
       "[63 rows x 4 columns]"
      ]
     },
     "execution_count": 41,
     "metadata": {},
     "output_type": "execute_result"
    }
   ],
   "source": [
    "priceslist[0]"
   ]
  },
  {
   "cell_type": "markdown",
   "id": "beb70ece-8578-4a37-8c21-fa38ac737758",
   "metadata": {},
   "source": [
    "### Conclusion"
   ]
  },
  {
   "cell_type": "markdown",
   "id": "7d887590-6721-4b6d-bec0-8c025a53bd48",
   "metadata": {},
   "source": [
    "Current article preseneted functions to find valid RICs for options on stock and indices traded in several exchanges. Additionally, I presented a universal function which finds the exchanges where an option on a given asset is traded, constructs RICs for them, validates and returns the constructed RICs along with the price.\n",
    "\n",
    "The current version of this article is limited for certain exchanges, includig OPRA, EUREX, ICE, Hong Kong and Osaka, and for options on certain asset types, including indices and stocks. Please let me know which other exchanges and/or options on other asset categories you want me to build functions for. You can contact me directly via h.aramyan@refinitiv.com or raise your questions/suggestion via Q&A portal of Developer community."
   ]
  }
 ],
 "metadata": {
  "kernelspec": {
   "display_name": "Python 3 (ipykernel)",
   "language": "python",
   "name": "python3"
  },
  "language_info": {
   "codemirror_mode": {
    "name": "ipython",
    "version": 3
   },
   "file_extension": ".py",
   "mimetype": "text/x-python",
   "name": "python",
   "nbconvert_exporter": "python",
   "pygments_lexer": "ipython3",
   "version": "3.10.4"
  }
 },
 "nbformat": 4,
 "nbformat_minor": 5
}
